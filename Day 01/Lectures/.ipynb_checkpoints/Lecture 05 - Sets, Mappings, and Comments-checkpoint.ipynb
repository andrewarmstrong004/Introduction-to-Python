{
 "cells": [
  {
   "cell_type": "markdown",
   "metadata": {},
   "source": [
    "## Sets\n",
    "\n",
    "Sets are unordered collections of immutable values.  They are commonly used for membership testing, removing duplicate values, and mathematical operations.\n",
    "\n",
    "Sets:\n",
    "    \n",
    "    Are not indexed\n",
    "    Unorded collections objects\n",
    "    Variable length\n",
    "    Can be composed of any hashable object\n",
    "    \n"
   ]
  },
  {
   "cell_type": "markdown",
   "metadata": {},
   "source": [
    "### Sets (Mutable)"
   ]
  },
  {
   "cell_type": "code",
   "execution_count": null,
   "metadata": {
    "collapsed": true
   },
   "outputs": [],
   "source": [
    "S = set([1,2,3,4])\n",
    "print S\n",
    "S = {'a','b','c','d'}\n",
    "print S"
   ]
  },
  {
   "cell_type": "code",
   "execution_count": null,
   "metadata": {
    "collapsed": true
   },
   "outputs": [],
   "source": [
    "print S[1]"
   ]
  },
  {
   "cell_type": "code",
   "execution_count": null,
   "metadata": {
    "collapsed": true
   },
   "outputs": [],
   "source": [
    "S = {1,2,3,[1,2,3]}\n",
    "print S"
   ]
  },
  {
   "cell_type": "code",
   "execution_count": null,
   "metadata": {
    "collapsed": true
   },
   "outputs": [],
   "source": [
    "S = {'hello','how','are','you?'}\n",
    "print S"
   ]
  },
  {
   "cell_type": "code",
   "execution_count": null,
   "metadata": {
    "collapsed": true
   },
   "outputs": [],
   "source": [
    "set_num = set([1,5,6,7,8,2,3,4])\n",
    "print set_num\n",
    "set_val = {'a','b','c',1,2,3}\n",
    "print set_val"
   ]
  },
  {
   "cell_type": "markdown",
   "metadata": {
    "collapsed": true
   },
   "source": [
    "### Frozen Sets (Immutable)"
   ]
  },
  {
   "cell_type": "code",
   "execution_count": null,
   "metadata": {
    "collapsed": true
   },
   "outputs": [],
   "source": [
    "F = frozenset([1,2,3,4])\n",
    "print F"
   ]
  },
  {
   "cell_type": "markdown",
   "metadata": {},
   "source": [
    "#### Functions that apply to both Sets and Frozen Sets"
   ]
  },
  {
   "cell_type": "markdown",
   "metadata": {
    "collapsed": true
   },
   "source": [
    "##### Lenght (Cardinality of a set)"
   ]
  },
  {
   "cell_type": "code",
   "execution_count": null,
   "metadata": {
    "collapsed": true
   },
   "outputs": [],
   "source": [
    "set_num = set([1,5,6,7,8,2,3,4])\n",
    "set_val = {'a','b','c',1,2,3}\n",
    "set_abc = {'a','b','c'}\n",
    "\n",
    "print len(set_num)\n",
    "print len(set_val)"
   ]
  },
  {
   "cell_type": "markdown",
   "metadata": {
    "collapsed": true
   },
   "source": [
    "##### In (Checking for membership)"
   ]
  },
  {
   "cell_type": "code",
   "execution_count": null,
   "metadata": {
    "collapsed": true
   },
   "outputs": [],
   "source": [
    "print 'a' in set_num\n",
    "print 'a' in set_val"
   ]
  },
  {
   "cell_type": "markdown",
   "metadata": {
    "collapsed": true
   },
   "source": [
    "##### Not in (Checking for lack of membership)"
   ]
  },
  {
   "cell_type": "code",
   "execution_count": null,
   "metadata": {
    "collapsed": true
   },
   "outputs": [],
   "source": [
    "print 'a' not in set_num\n",
    "print 'a' not in set_val"
   ]
  },
  {
   "cell_type": "markdown",
   "metadata": {
    "collapsed": true
   },
   "source": [
    "##### Subset (Checking if one set is contained in another)"
   ]
  },
  {
   "cell_type": "code",
   "execution_count": null,
   "metadata": {
    "collapsed": true
   },
   "outputs": [],
   "source": [
    "print set_num.issubset(set_val)\n",
    "print set_val.issubset(set_num)"
   ]
  },
  {
   "cell_type": "code",
   "execution_count": null,
   "metadata": {
    "collapsed": true
   },
   "outputs": [],
   "source": [
    "print set_abc.issubset(set_val)\n",
    "print set_val.issubset(set_abc)"
   ]
  },
  {
   "cell_type": "code",
   "execution_count": null,
   "metadata": {
    "collapsed": true
   },
   "outputs": [],
   "source": [
    "print set_num.issubset(set_num)"
   ]
  },
  {
   "cell_type": "markdown",
   "metadata": {
    "collapsed": true
   },
   "source": [
    "##### Superset (Checking if one set contains anther)"
   ]
  },
  {
   "cell_type": "code",
   "execution_count": null,
   "metadata": {
    "collapsed": true
   },
   "outputs": [],
   "source": [
    "print set_num.issuperset(set_val)\n",
    "print set_val.issuperset(set_num)"
   ]
  },
  {
   "cell_type": "code",
   "execution_count": null,
   "metadata": {
    "collapsed": true
   },
   "outputs": [],
   "source": [
    "print set_abc.issuperset(set_val)\n",
    "print set_val.issuperset(set_abc)"
   ]
  },
  {
   "cell_type": "code",
   "execution_count": null,
   "metadata": {
    "collapsed": true
   },
   "outputs": [],
   "source": [
    "print set_num.issuperset(set_num)"
   ]
  },
  {
   "cell_type": "markdown",
   "metadata": {
    "collapsed": true
   },
   "source": [
    "##### Union (Combines the elements of two sets)"
   ]
  },
  {
   "cell_type": "code",
   "execution_count": null,
   "metadata": {
    "collapsed": true
   },
   "outputs": [],
   "source": [
    "print set_val\n",
    "print set_num\n",
    "print set_abc"
   ]
  },
  {
   "cell_type": "code",
   "execution_count": null,
   "metadata": {
    "collapsed": true
   },
   "outputs": [],
   "source": [
    "print set_num.union(set_abc)"
   ]
  },
  {
   "cell_type": "code",
   "execution_count": null,
   "metadata": {
    "collapsed": true
   },
   "outputs": [],
   "source": [
    "print set_val.union(set_abc)"
   ]
  },
  {
   "cell_type": "code",
   "execution_count": null,
   "metadata": {
    "collapsed": true
   },
   "outputs": [],
   "source": [
    "print set_val.union(set_val)"
   ]
  },
  {
   "cell_type": "markdown",
   "metadata": {
    "collapsed": true
   },
   "source": [
    "##### Intersetcion (Finds the overlap of two sets)"
   ]
  },
  {
   "cell_type": "code",
   "execution_count": null,
   "metadata": {
    "collapsed": true
   },
   "outputs": [],
   "source": [
    "print set_num.intersection(set_abc)"
   ]
  },
  {
   "cell_type": "code",
   "execution_count": null,
   "metadata": {
    "collapsed": true
   },
   "outputs": [],
   "source": [
    "print set_val.intersection(set_abc)"
   ]
  },
  {
   "cell_type": "code",
   "execution_count": null,
   "metadata": {
    "collapsed": true
   },
   "outputs": [],
   "source": [
    "print set_val.intersection(set_val)"
   ]
  },
  {
   "cell_type": "markdown",
   "metadata": {
    "collapsed": true
   },
   "source": [
    "##### Difference (Finds the elements in one set that are not in another)"
   ]
  },
  {
   "cell_type": "code",
   "execution_count": null,
   "metadata": {
    "collapsed": true
   },
   "outputs": [],
   "source": [
    "print set_num.difference(set_abc)"
   ]
  },
  {
   "cell_type": "code",
   "execution_count": null,
   "metadata": {
    "collapsed": true
   },
   "outputs": [],
   "source": [
    "print set_val.difference(set_abc)"
   ]
  },
  {
   "cell_type": "code",
   "execution_count": null,
   "metadata": {
    "collapsed": true
   },
   "outputs": [],
   "source": [
    "print set_val.difference(set_val)"
   ]
  },
  {
   "cell_type": "markdown",
   "metadata": {
    "collapsed": true
   },
   "source": [
    "##### Symmetric Difference (Finds elements in either of the sets that aren't in both)"
   ]
  },
  {
   "cell_type": "code",
   "execution_count": null,
   "metadata": {
    "collapsed": true
   },
   "outputs": [],
   "source": [
    "print set_num.symmetric_difference(set_abc)"
   ]
  },
  {
   "cell_type": "code",
   "execution_count": null,
   "metadata": {
    "collapsed": true
   },
   "outputs": [],
   "source": [
    "print set_val.symmetric_difference(set_abc)"
   ]
  },
  {
   "cell_type": "code",
   "execution_count": null,
   "metadata": {
    "collapsed": true
   },
   "outputs": [],
   "source": [
    "print set_val.symmetric_difference(set_val)"
   ]
  },
  {
   "cell_type": "markdown",
   "metadata": {
    "collapsed": true
   },
   "source": [
    "##### Copy (Creates a copy)"
   ]
  },
  {
   "cell_type": "code",
   "execution_count": null,
   "metadata": {
    "collapsed": true
   },
   "outputs": [],
   "source": [
    "print set_val.copy()"
   ]
  },
  {
   "cell_type": "code",
   "execution_count": null,
   "metadata": {
    "collapsed": true
   },
   "outputs": [],
   "source": [
    "print set_val.copy() is set_val\n",
    "print set_val.copy() == set_val"
   ]
  },
  {
   "cell_type": "markdown",
   "metadata": {
    "collapsed": true
   },
   "source": [
    "#### Functions that apply to only sets, not frozen sets"
   ]
  },
  {
   "cell_type": "markdown",
   "metadata": {
    "collapsed": true
   },
   "source": [
    "##### Update (Adds all elements of a new set to the old set)"
   ]
  },
  {
   "cell_type": "code",
   "execution_count": null,
   "metadata": {
    "collapsed": true
   },
   "outputs": [],
   "source": [
    "set_num = set([1,5,6,7,8,2,3,4])\n",
    "set_val = {'a','b','c',1,2,3}\n",
    "set_abc = {'a','b','c'}"
   ]
  },
  {
   "cell_type": "code",
   "execution_count": null,
   "metadata": {
    "collapsed": true
   },
   "outputs": [],
   "source": [
    "print set_num.update(set_abc)\n",
    "print set_num"
   ]
  },
  {
   "cell_type": "code",
   "execution_count": null,
   "metadata": {
    "collapsed": true
   },
   "outputs": [],
   "source": [
    "print set_abc"
   ]
  },
  {
   "cell_type": "markdown",
   "metadata": {},
   "source": [
    "##### Intersection Update (Updates the old set to only contain elements in both sets)"
   ]
  },
  {
   "cell_type": "code",
   "execution_count": null,
   "metadata": {
    "collapsed": true
   },
   "outputs": [],
   "source": [
    "set_num = set([1,5,6,7,8,2,3,4])\n",
    "set_val = {'a','b','c',1,2,3}\n",
    "set_abc = {'a','b','c'}"
   ]
  },
  {
   "cell_type": "code",
   "execution_count": null,
   "metadata": {
    "collapsed": true
   },
   "outputs": [],
   "source": [
    "print set_val.intersection_update(set_abc)\n",
    "print set_val\n",
    "print set_abc"
   ]
  },
  {
   "cell_type": "code",
   "execution_count": null,
   "metadata": {
    "collapsed": true
   },
   "outputs": [],
   "source": [
    "print set_num.intersection_update(set_abc)\n",
    "print set_num\n",
    "print set_abc"
   ]
  },
  {
   "cell_type": "markdown",
   "metadata": {},
   "source": [
    "##### Difference Update (Updates the old set by removing all the elments in the other set)"
   ]
  },
  {
   "cell_type": "code",
   "execution_count": null,
   "metadata": {
    "collapsed": true
   },
   "outputs": [],
   "source": [
    "set_num = set([1,5,6,7,8,2,3,4])\n",
    "set_val = {'a','b','c',1,2,3}\n",
    "set_abc = {'a','b','c'}"
   ]
  },
  {
   "cell_type": "code",
   "execution_count": null,
   "metadata": {
    "collapsed": true
   },
   "outputs": [],
   "source": [
    "print set_val.difference_update(set_abc)\n",
    "print set_val\n",
    "print set_abc"
   ]
  },
  {
   "cell_type": "code",
   "execution_count": null,
   "metadata": {
    "collapsed": true
   },
   "outputs": [],
   "source": [
    "print set_num.difference_update(set_abc)\n",
    "print set_num\n",
    "print set_abc"
   ]
  },
  {
   "cell_type": "markdown",
   "metadata": {},
   "source": [
    "##### Symmetric Difference Update (Updates the old set keeping only elements found in either set, but not both)"
   ]
  },
  {
   "cell_type": "code",
   "execution_count": null,
   "metadata": {
    "collapsed": true
   },
   "outputs": [],
   "source": [
    "set_num = set([1,5,6,7,8,2,3,4])\n",
    "set_val = {'a','b','c',1,2,3}\n",
    "set_abc = {'a','b','c'}"
   ]
  },
  {
   "cell_type": "code",
   "execution_count": null,
   "metadata": {
    "collapsed": true
   },
   "outputs": [],
   "source": [
    "print set_val.symmetric_difference_update(set_abc)\n",
    "print set_val\n",
    "print set_abc"
   ]
  },
  {
   "cell_type": "code",
   "execution_count": null,
   "metadata": {
    "collapsed": true
   },
   "outputs": [],
   "source": [
    "print set_num.symmetric_difference_update(set_abc)\n",
    "print set_num\n",
    "print set_abc"
   ]
  },
  {
   "cell_type": "markdown",
   "metadata": {},
   "source": [
    "##### Add (Adds a new element to the set)"
   ]
  },
  {
   "cell_type": "code",
   "execution_count": null,
   "metadata": {
    "collapsed": true
   },
   "outputs": [],
   "source": [
    "set_num = set([1,5,6,7,8,2,3,4])\n",
    "set_val = {'a','b','c',1,2,3}\n",
    "set_abc = {'a','b','c'}"
   ]
  },
  {
   "cell_type": "code",
   "execution_count": null,
   "metadata": {
    "collapsed": true
   },
   "outputs": [],
   "source": [
    "set_num.add(15)\n",
    "print set_num"
   ]
  },
  {
   "cell_type": "markdown",
   "metadata": {},
   "source": [
    "##### Remove (Removes a element from a set, results in an error if the element isn't in the set)"
   ]
  },
  {
   "cell_type": "code",
   "execution_count": null,
   "metadata": {
    "collapsed": true
   },
   "outputs": [],
   "source": [
    "set_num = set([1,5,6,7,8,2,3,4])\n",
    "set_num.remove(1)\n",
    "print set_num\n",
    "set_num.remove(1)\n",
    "print set_num"
   ]
  },
  {
   "cell_type": "markdown",
   "metadata": {},
   "source": [
    "##### Discard (Removes an element from a set if it is present)"
   ]
  },
  {
   "cell_type": "code",
   "execution_count": null,
   "metadata": {
    "collapsed": true
   },
   "outputs": [],
   "source": [
    "set_num = set([1,5,6,7,8,2,3,4])\n",
    "set_num.discard(1)\n",
    "print set_num\n",
    "set_num.discard(1)\n",
    "print set_num"
   ]
  },
  {
   "cell_type": "markdown",
   "metadata": {
    "collapsed": true
   },
   "source": [
    "##### Pop (Removes and returns an arbitrary element from the set, results in an error if the set is empty)"
   ]
  },
  {
   "cell_type": "code",
   "execution_count": null,
   "metadata": {
    "collapsed": true
   },
   "outputs": [],
   "source": [
    "set_num = set([1,5,6,7,8,2,3,4])\n",
    "print set_num.pop()\n",
    "print set_num\n",
    "print set_num.pop()\n",
    "print set_num"
   ]
  },
  {
   "cell_type": "markdown",
   "metadata": {
    "collapsed": true
   },
   "source": [
    "##### Clear (Removes all elements in the given sest)"
   ]
  },
  {
   "cell_type": "code",
   "execution_count": null,
   "metadata": {
    "collapsed": true
   },
   "outputs": [],
   "source": [
    "set_num = set([1,5,6,7,8,2,3,4])\n",
    "print set_num\n",
    "set_num.clear()\n",
    "print set_num"
   ]
  },
  {
   "cell_type": "markdown",
   "metadata": {},
   "source": [
    "# Mappings"
   ]
  },
  {
   "cell_type": "markdown",
   "metadata": {},
   "source": [
    "## Dictionaries (Mutable)\n",
    "\n",
    "Dictionaries are:\n",
    "    \n",
    "    Accessed by key, not offset position\n",
    "    Unorded collections of aritrary objects\n",
    "    Variable length\n",
    "    Can be composed of any object\n",
    "    Can be nested\n",
    "    Can be changed\n",
    "    \n",
    "Dictionaries use a hash table for management\n",
    "    "
   ]
  },
  {
   "cell_type": "markdown",
   "metadata": {},
   "source": [
    "### Creating a Dictionary "
   ]
  },
  {
   "cell_type": "code",
   "execution_count": null,
   "metadata": {
    "collapsed": true
   },
   "outputs": [],
   "source": [
    "D = {}\n",
    "print D\n",
    "D = dict()\n",
    "print D\n",
    "D = {'name':'Drew', 'age': 32}\n",
    "print D"
   ]
  },
  {
   "cell_type": "code",
   "execution_count": null,
   "metadata": {
    "collapsed": true
   },
   "outputs": [],
   "source": [
    "D2 = {'prof': D}\n",
    "print D2"
   ]
  },
  {
   "cell_type": "code",
   "execution_count": null,
   "metadata": {
    "collapsed": true
   },
   "outputs": [],
   "source": [
    "D_a = ['name', 'Drew']\n",
    "D_b = ['age', 32]\n",
    "\n",
    "D = dict([D_a, D_b])\n",
    "\n",
    "print D"
   ]
  },
  {
   "cell_type": "code",
   "execution_count": null,
   "metadata": {
    "collapsed": true
   },
   "outputs": [],
   "source": [
    "D_a = ['name', 'age']\n",
    "D_b = ['Drew', 32]\n",
    "\n",
    "D = dict(zip(D_a, D_b))\n",
    "\n",
    "print D"
   ]
  },
  {
   "cell_type": "code",
   "execution_count": null,
   "metadata": {
    "collapsed": true
   },
   "outputs": [],
   "source": [
    "D_a = ['name', 'age']\n",
    "D_b = ['Drew', 32]\n",
    "\n",
    "print zip(D_a, D_b)"
   ]
  },
  {
   "cell_type": "markdown",
   "metadata": {},
   "source": [
    "zip creates a list of pairs (or n-tuples if more than two lists provided).  Very useful in a wide variety of applications, especially walking through two lists simultaneously"
   ]
  },
  {
   "cell_type": "markdown",
   "metadata": {},
   "source": [
    "### Accessing elements in a dictionary "
   ]
  },
  {
   "cell_type": "code",
   "execution_count": null,
   "metadata": {
    "collapsed": true
   },
   "outputs": [],
   "source": [
    "D = {'name':'Drew', 'age': 32}\n",
    "\n",
    "print D\n",
    "\n",
    "print D['age']\n",
    "print D['name']\n",
    "D['name'] = 'Frank'\n",
    "print D"
   ]
  },
  {
   "cell_type": "code",
   "execution_count": null,
   "metadata": {
    "collapsed": true
   },
   "outputs": [],
   "source": [
    "D2 = {'prof': D}\n",
    "\n",
    "print D2\n",
    "\n",
    "print D2['prof']['age']"
   ]
  },
  {
   "cell_type": "markdown",
   "metadata": {},
   "source": [
    "### Adding and changing elements of a dictionary "
   ]
  },
  {
   "cell_type": "code",
   "execution_count": null,
   "metadata": {
    "collapsed": true
   },
   "outputs": [],
   "source": [
    "D = {'name': 'Drew', 'age': 32, 'job': 'prof'}\n",
    "print D\n",
    "\n",
    "D['height'] = 69\n",
    "\n",
    "print D\n",
    "\n",
    "D['job'] = 'teacher'\n",
    "\n",
    "print D"
   ]
  },
  {
   "cell_type": "markdown",
   "metadata": {},
   "source": [
    "### Deleting elements from a dictionary"
   ]
  },
  {
   "cell_type": "code",
   "execution_count": null,
   "metadata": {
    "collapsed": true
   },
   "outputs": [],
   "source": [
    "D = {'name': 'Drew', 'age': 32, 'job': 'prof'}\n",
    "print D\n",
    "\n",
    "del D['job']\n",
    "\n",
    "print D"
   ]
  },
  {
   "cell_type": "markdown",
   "metadata": {},
   "source": [
    "### Build in methods "
   ]
  },
  {
   "cell_type": "markdown",
   "metadata": {},
   "source": [
    "##### Keys\n",
    "\n",
    "Returns all the keys in the dict as a list"
   ]
  },
  {
   "cell_type": "code",
   "execution_count": null,
   "metadata": {
    "collapsed": true
   },
   "outputs": [],
   "source": [
    "D = {'name': 'Drew', 'age': 32, 'job': 'prof'}\n",
    "\n",
    "print D\n",
    "\n",
    "print D.keys()"
   ]
  },
  {
   "cell_type": "markdown",
   "metadata": {},
   "source": [
    "##### Values\n",
    "\n",
    "Returns all the values in the dict as a list"
   ]
  },
  {
   "cell_type": "code",
   "execution_count": null,
   "metadata": {
    "collapsed": true
   },
   "outputs": [],
   "source": [
    "D = {'name': 'Drew', 'age': 32, 'job': 'prof'}\n",
    "\n",
    "print D\n",
    "\n",
    "print D.values()"
   ]
  },
  {
   "cell_type": "markdown",
   "metadata": {},
   "source": [
    "##### Items\n",
    "\n",
    "Returns of list of key/value pairs"
   ]
  },
  {
   "cell_type": "code",
   "execution_count": null,
   "metadata": {
    "collapsed": true
   },
   "outputs": [],
   "source": [
    "D = {'name': 'Drew', 'age': 32, 'job': 'prof'}\n",
    "\n",
    "print D\n",
    "\n",
    "print D.items()"
   ]
  },
  {
   "cell_type": "markdown",
   "metadata": {},
   "source": [
    "##### Copy\n",
    "\n",
    "Makes a new copy of the dictionary.  With copy, they con't point to the same dictionary anymore, a new copy is created."
   ]
  },
  {
   "cell_type": "code",
   "execution_count": null,
   "metadata": {
    "collapsed": true
   },
   "outputs": [],
   "source": [
    "D = {'name': 'Drew', 'age': 32, 'job': 'prof'}\n",
    "\n",
    "print D\n",
    "\n",
    "E = D\n",
    "\n",
    "print E\n",
    "\n",
    "E['sport'] = 'hockey'\n",
    "\n",
    "print E\n",
    "print D"
   ]
  },
  {
   "cell_type": "code",
   "execution_count": null,
   "metadata": {
    "collapsed": true
   },
   "outputs": [],
   "source": [
    "D = {'name': 'Drew', 'age': 32, 'job': 'prof'}\n",
    "\n",
    "print D\n",
    "\n",
    "E = D.copy()\n",
    "\n",
    "print E\n",
    "\n",
    "E['sport'] = 'hockey'\n",
    "\n",
    "print E\n",
    "print D"
   ]
  },
  {
   "cell_type": "markdown",
   "metadata": {},
   "source": [
    "##### Clear\n",
    "\n",
    "Clears the dict"
   ]
  },
  {
   "cell_type": "code",
   "execution_count": null,
   "metadata": {
    "collapsed": true
   },
   "outputs": [],
   "source": [
    "D = {'name': 'Drew', 'age': 32, 'job': 'prof'}\n",
    "\n",
    "print D\n",
    "\n",
    "D.clear()\n",
    "\n",
    "print D"
   ]
  },
  {
   "cell_type": "markdown",
   "metadata": {},
   "source": [
    "##### Get\n",
    "\n",
    "Same as just using dict['key']"
   ]
  },
  {
   "cell_type": "code",
   "execution_count": null,
   "metadata": {
    "collapsed": true
   },
   "outputs": [],
   "source": [
    "D = {'name': 'Drew', 'age': 32, 'job': 'prof'}\n",
    "\n",
    "print D\n",
    "\n",
    "print D.get('name')\n",
    "\n",
    "print D"
   ]
  },
  {
   "cell_type": "markdown",
   "metadata": {},
   "source": [
    "##### Pop\n",
    "\n",
    "Returns a value, based on the provided key, from the dictionary.  This value/key pair is then removed from the dictioanry"
   ]
  },
  {
   "cell_type": "code",
   "execution_count": null,
   "metadata": {
    "collapsed": true
   },
   "outputs": [],
   "source": [
    "D = {'name': 'Drew', 'age': 32, 'job': 'prof'}\n",
    "\n",
    "print D\n",
    "\n",
    "print D.pop('job')\n",
    "\n",
    "print D"
   ]
  },
  {
   "cell_type": "markdown",
   "metadata": {},
   "source": [
    "##### Popitem \n",
    "\n",
    "Pops an arbitrary element fromt the dictionary, removing it in the process.  Returns a tuple of the key/value pair"
   ]
  },
  {
   "cell_type": "code",
   "execution_count": null,
   "metadata": {
    "collapsed": true
   },
   "outputs": [],
   "source": [
    "D = {'name': 'Drew', 'age': 32, 'job': 'prof'}\n",
    "\n",
    "print D\n",
    "\n",
    "print D.popitem()\n",
    "\n",
    "print D"
   ]
  },
  {
   "cell_type": "markdown",
   "metadata": {},
   "source": [
    "##### Set Default\n",
    "\n",
    "Searches for a given key in the dictionary, if its not found, it returns the secod parameter as a default.  Helps to combat errors"
   ]
  },
  {
   "cell_type": "code",
   "execution_count": null,
   "metadata": {
    "collapsed": true
   },
   "outputs": [],
   "source": [
    "D = {'name': 'Drew', 'age': 32, 'job': 'prof'}\n",
    "\n",
    "print D\n",
    "\n",
    "print D['color']"
   ]
  },
  {
   "cell_type": "code",
   "execution_count": null,
   "metadata": {
    "collapsed": true
   },
   "outputs": [],
   "source": [
    "D = {'name': 'Drew', 'age': 32, 'job': 'prof'}\n",
    "\n",
    "print D\n",
    "\n",
    "D.setdefault('color', -1)"
   ]
  },
  {
   "cell_type": "code",
   "execution_count": null,
   "metadata": {
    "collapsed": true
   },
   "outputs": [],
   "source": [
    "D = {'name': 'Drew', 'age': 32, 'job': 'prof'}\n",
    "\n",
    "print D\n",
    "\n",
    "print D.setdefault('job', 5)"
   ]
  },
  {
   "cell_type": "markdown",
   "metadata": {},
   "source": [
    "##### Length\n",
    "\n",
    "Returns the number of Key/Value pairs"
   ]
  },
  {
   "cell_type": "code",
   "execution_count": null,
   "metadata": {
    "collapsed": true
   },
   "outputs": [],
   "source": [
    "D = {'name': 'Drew', 'age': 32, 'job': 'prof'}\n",
    "\n",
    "print D\n",
    "\n",
    "print len(D)"
   ]
  },
  {
   "cell_type": "markdown",
   "metadata": {},
   "source": [
    "## The Type Function\n",
    "\n",
    "The Type function can be used to determine the type of a variable or object"
   ]
  },
  {
   "cell_type": "code",
   "execution_count": null,
   "metadata": {
    "collapsed": true
   },
   "outputs": [],
   "source": [
    "L = list()\n",
    "L.append(4)\n",
    "\n",
    "print L\n",
    "print type(L)\n",
    "\n",
    "print type(L) == list"
   ]
  },
  {
   "cell_type": "code",
   "execution_count": null,
   "metadata": {
    "collapsed": true
   },
   "outputs": [],
   "source": [
    "D = {'name': 'Drew', 'age': 32, 'job': 'prof'}\n",
    "D2 = {'name': 'Andrew', 'age': 23, 'job': 'teach'}\n",
    "\n",
    "print D\n",
    "print type(D)\n",
    "\n",
    "print type(D) == type(D2)"
   ]
  },
  {
   "cell_type": "code",
   "execution_count": null,
   "metadata": {
    "collapsed": true
   },
   "outputs": [],
   "source": [
    "T = (1,2,3,['hello',6],'string', {'name':'steve'})\n",
    "\n",
    "print T\n",
    "print type(T)\n",
    "\n",
    "print type(T) is tuple\n",
    "\n",
    "print type(T[1])"
   ]
  },
  {
   "cell_type": "code",
   "execution_count": null,
   "metadata": {
    "collapsed": true
   },
   "outputs": [],
   "source": [
    "L = list()\n",
    "L2 = list()\n",
    "\n",
    "D = dict()\n",
    "\n",
    "T = tuple()\n",
    "\n",
    "print type(L) == type(L)\n",
    "print type(L) is type(L)\n",
    "\n",
    "print type(L) is type(D)\n",
    "\n",
    "print type(D) == type(T)"
   ]
  },
  {
   "cell_type": "markdown",
   "metadata": {},
   "source": [
    "# Comments\n",
    "\n",
    "In python we use # for comments, which means anything after # with not be ran as code"
   ]
  },
  {
   "cell_type": "code",
   "execution_count": null,
   "metadata": {
    "collapsed": true
   },
   "outputs": [],
   "source": [
    "L = [1,2,3]\n",
    "\n",
    "print L\n",
    "\n",
    "#L.append(9)\n",
    "\n",
    "print L\n",
    "\n",
    "L.append(5) #L.append(328) won't be ran\n",
    "\n",
    "print L"
   ]
  }
 ],
 "metadata": {
  "anaconda-cloud": {},
  "kernelspec": {
   "display_name": "Python 2",
   "language": "python",
   "name": "python2"
  },
  "language_info": {
   "codemirror_mode": {
    "name": "ipython",
    "version": 2
   },
   "file_extension": ".py",
   "mimetype": "text/x-python",
   "name": "python",
   "nbconvert_exporter": "python",
   "pygments_lexer": "ipython2",
   "version": "2.7.13"
  }
 },
 "nbformat": 4,
 "nbformat_minor": 2
}
