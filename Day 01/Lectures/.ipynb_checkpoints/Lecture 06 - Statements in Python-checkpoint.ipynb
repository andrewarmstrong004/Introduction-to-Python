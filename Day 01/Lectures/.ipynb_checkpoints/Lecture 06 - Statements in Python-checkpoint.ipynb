{
 "cells": [
  {
   "cell_type": "markdown",
   "metadata": {
    "collapsed": true
   },
   "source": [
    "# Lecture 06 - Statements in Python"
   ]
  },
  {
   "cell_type": "markdown",
   "metadata": {},
   "source": [
    "# Assignments \n",
    "\n",
    "How we assign objects to variables in Python"
   ]
  },
  {
   "cell_type": "markdown",
   "metadata": {},
   "source": [
    "##### Basic\n",
    "\n",
    "The standard assingment we have been using thus far"
   ]
  },
  {
   "cell_type": "code",
   "execution_count": null,
   "metadata": {
    "collapsed": true
   },
   "outputs": [],
   "source": [
    "spam = 'spam'\n",
    "print spam"
   ]
  },
  {
   "cell_type": "code",
   "execution_count": null,
   "metadata": {
    "collapsed": true
   },
   "outputs": [],
   "source": [
    "value = 17\n",
    "print value"
   ]
  },
  {
   "cell_type": "code",
   "execution_count": null,
   "metadata": {
    "collapsed": true
   },
   "outputs": [],
   "source": [
    "double = 3.14159\n",
    "print double"
   ]
  },
  {
   "cell_type": "markdown",
   "metadata": {},
   "source": [
    "##### Tuple\n",
    "\n",
    "Assignment using commas"
   ]
  },
  {
   "cell_type": "code",
   "execution_count": null,
   "metadata": {
    "collapsed": true
   },
   "outputs": [],
   "source": [
    "ham, eggs = 'ham', 'eggs'\n",
    "\n",
    "print ham\n",
    "\n",
    "print eggs"
   ]
  },
  {
   "cell_type": "markdown",
   "metadata": {},
   "source": [
    "##### List\n",
    "\n",
    "Using a list instead of a tuple for assignment"
   ]
  },
  {
   "cell_type": "code",
   "execution_count": null,
   "metadata": {
    "collapsed": true
   },
   "outputs": [],
   "source": [
    "[ham, eggs] = ['ham', 'eggs']\n",
    "\n",
    "print ham\n",
    "print eggs"
   ]
  },
  {
   "cell_type": "markdown",
   "metadata": {},
   "source": [
    "##### Sequence assignment  (generalized)\n",
    "\n",
    "Assigned in a sequence, can even cross variable types"
   ]
  },
  {
   "cell_type": "code",
   "execution_count": null,
   "metadata": {
    "collapsed": true
   },
   "outputs": [],
   "source": [
    "one, two, three, four = 'eggs'\n",
    "print one\n",
    "print two\n",
    "print three\n",
    "print four"
   ]
  },
  {
   "cell_type": "markdown",
   "metadata": {},
   "source": [
    "##### Multiple-target assignment\n",
    "\n",
    "Assign an object to more than one variable"
   ]
  },
  {
   "cell_type": "code",
   "execution_count": null,
   "metadata": {
    "collapsed": true
   },
   "outputs": [],
   "source": [
    "ham = eggs = 'ham and eggs'\n",
    "\n",
    "print ham\n",
    "print eggs"
   ]
  },
  {
   "cell_type": "markdown",
   "metadata": {},
   "source": [
    "##### Augmented assignment\n",
    "\n",
    "a += b is equivalent to a = a + b"
   ]
  },
  {
   "cell_type": "code",
   "execution_count": null,
   "metadata": {
    "collapsed": true
   },
   "outputs": [],
   "source": [
    "a=4\n",
    "b=7\n",
    "\n",
    "a = a + b\n",
    "\n",
    "print a"
   ]
  },
  {
   "cell_type": "code",
   "execution_count": null,
   "metadata": {
    "collapsed": true
   },
   "outputs": [],
   "source": [
    "a=4\n",
    "b=7\n",
    "\n",
    "a += b\n",
    "\n",
    "print a"
   ]
  },
  {
   "cell_type": "code",
   "execution_count": null,
   "metadata": {
    "collapsed": true
   },
   "outputs": [],
   "source": [
    "a = 'str'\n",
    "b = 'ing'\n",
    "\n",
    "a += b\n",
    "\n",
    "print a"
   ]
  },
  {
   "cell_type": "code",
   "execution_count": null,
   "metadata": {
    "collapsed": true
   },
   "outputs": [],
   "source": [
    "a = [1,2,3]\n",
    "b = [4,5,6]\n",
    "\n",
    "a += b\n",
    "\n",
    "print a"
   ]
  },
  {
   "cell_type": "markdown",
   "metadata": {},
   "source": [
    "# Expression Statements\n",
    "\n",
    "Calls functions and methods\n",
    "\n",
    "This is any code that we have used so far whis a . seperating the pieces.  Lets use list as our example."
   ]
  },
  {
   "cell_type": "code",
   "execution_count": null,
   "metadata": {
    "collapsed": true
   },
   "outputs": [],
   "source": [
    "L = [1,2,3,4,5]\n",
    "\n",
    "print L\n",
    "\n",
    "L.append(6)\n",
    "\n",
    "print L\n",
    "\n",
    "L.append(7)\n",
    "\n",
    "print L\n",
    "\n",
    "print L.pop()\n",
    "\n",
    "print L.pop()\n",
    "\n",
    "print L"
   ]
  },
  {
   "cell_type": "markdown",
   "metadata": {},
   "source": [
    "Append, and pop are both examples of expression statements.  We will explore these further when we make functions and classes."
   ]
  },
  {
   "cell_type": "markdown",
   "metadata": {},
   "source": [
    "# Print Statements "
   ]
  },
  {
   "cell_type": "code",
   "execution_count": null,
   "metadata": {
    "collapsed": true
   },
   "outputs": [],
   "source": [
    "x = 'a'\n",
    "y = 'b'\n",
    "\n",
    "print x\n",
    "print y\n",
    "\n",
    "print\n",
    "\n",
    "print x, y\n",
    "\n",
    "print\n",
    "\n",
    "print x,y; print x,y\n",
    "\n",
    "print \n",
    "\n",
    "print x,y,; print x,y\n",
    "\n",
    "print\n",
    "\n",
    "print x + y\n",
    "\n",
    "print\n",
    "\n",
    "print '%s .. %s' % (x,y)"
   ]
  },
  {
   "cell_type": "markdown",
   "metadata": {},
   "source": [
    "# If Statements\n",
    "\n",
    "This is where our whitespace starts to become very important.  Make sure you use only a tab to change between levels for the if statements.\n",
    "\n",
    "Basic format for an if statement in Python:\n",
    "\n",
    "if test1:         # if test\n",
    "\n",
    "    statement1    # associated block to execute\n",
    "    \n",
    "elif test2:       # optional else if test\n",
    "\n",
    "    statement2    #\n",
    "\n",
    "else:             # optional else\n",
    "\n",
    "    statement3    #"
   ]
  },
  {
   "cell_type": "code",
   "execution_count": null,
   "metadata": {
    "collapsed": true
   },
   "outputs": [],
   "source": [
    "if True:\n",
    "    print 'in the if statement'"
   ]
  },
  {
   "cell_type": "code",
   "execution_count": null,
   "metadata": {
    "collapsed": true
   },
   "outputs": [],
   "source": [
    "if True:\n",
    "    print 'in the if statement'\n",
    "else:\n",
    "    print 'in the else statement'"
   ]
  },
  {
   "cell_type": "code",
   "execution_count": null,
   "metadata": {
    "collapsed": true
   },
   "outputs": [],
   "source": [
    "if False:\n",
    "    print 'in the if statement'\n",
    "else:\n",
    "    print 'in the else statement'"
   ]
  },
  {
   "cell_type": "code",
   "execution_count": null,
   "metadata": {
    "collapsed": true
   },
   "outputs": [],
   "source": [
    "if False:\n",
    "    print 'in the if statement'\n",
    "elif True:\n",
    "    print 'in the elif statement'\n",
    "else:\n",
    "    print 'in the else statement'"
   ]
  },
  {
   "cell_type": "code",
   "execution_count": null,
   "metadata": {
    "collapsed": true
   },
   "outputs": [],
   "source": [
    "var = True\n",
    "\n",
    "if var:\n",
    "    print 'in the if statement'\n",
    "elif var:\n",
    "    print 'in the elif statement'\n",
    "else:\n",
    "    print 'in the else statement'"
   ]
  },
  {
   "cell_type": "code",
   "execution_count": null,
   "metadata": {
    "collapsed": true
   },
   "outputs": [],
   "source": [
    "a = 17\n",
    "b = 10\n",
    "\n",
    "if a < b:\n",
    "    print 'a < b'\n",
    "else:\n",
    "    print 'a >= b'"
   ]
  },
  {
   "cell_type": "markdown",
   "metadata": {},
   "source": [
    "Python does not have switch or case statements, like C or Pascal.  Instead, you code a long series of multiway branches."
   ]
  },
  {
   "cell_type": "code",
   "execution_count": null,
   "metadata": {
    "collapsed": true
   },
   "outputs": [],
   "source": [
    "case = 3\n",
    "\n",
    "if case == 1:\n",
    "    print 'case is 1'\n",
    "elif case == 2:\n",
    "    print 'case is 2'\n",
    "    \n",
    "elif case == 3:\n",
    "    print 'case is 3'\n",
    "elif case == 4:\n",
    "    print 'case is 4'\n",
    "else:\n",
    "    print 'case not found'"
   ]
  },
  {
   "cell_type": "code",
   "execution_count": null,
   "metadata": {
    "collapsed": true
   },
   "outputs": [],
   "source": [
    "b = 8\n",
    "print b"
   ]
  },
  {
   "cell_type": "code",
   "execution_count": null,
   "metadata": {
    "collapsed": true
   },
   "outputs": [],
   "source": [
    "b == 9"
   ]
  },
  {
   "cell_type": "markdown",
   "metadata": {},
   "source": [
    "This if/elif/else statement is our fist example of a compound statement.\n",
    "\n",
    "Compound statements are header + ':' + indented statement\n",
    "\n",
    "Blank lines are optional and ignored.\n",
    "\n",
    "Spaces are usually ignored except when used for indentation.b"
   ]
  },
  {
   "cell_type": "code",
   "execution_count": null,
   "metadata": {
    "collapsed": true
   },
   "outputs": [],
   "source": [
    "x = 'SPAM'\n",
    "if 'rubbery' in 'shrubbery':\n",
    "    print x*8\n",
    "    x += 'NI'\n",
    "    if x.endswith('NI'):\n",
    "        x *= 2\n",
    "        print x"
   ]
  },
  {
   "cell_type": "markdown",
   "metadata": {},
   "source": [
    "After a short time, these indentation rules should feel intuitive because they break up your code into the appropraite pieces."
   ]
  },
  {
   "cell_type": "markdown",
   "metadata": {},
   "source": [
    "If you have very long statements you can use \\ to continue it on the next line"
   ]
  },
  {
   "cell_type": "code",
   "execution_count": null,
   "metadata": {
    "collapsed": true
   },
   "outputs": [],
   "source": [
    "a=b=c=d=True\n",
    "\n",
    "if (((a and b) and c) \\\n",
    "and not d):\n",
    "    print 'all true but d'\n",
    "else:\n",
    "    print 'a,b, or c false or d true'"
   ]
  },
  {
   "cell_type": "markdown",
   "metadata": {},
   "source": [
    "# While Loops \n",
    "\n",
    "Executes a block of code while a condition remains true.  The condition is only checked at the beginning of each loop.\n",
    "\n",
    "General format:\n",
    "\n",
    "while test: #loop test\n",
    "\n",
    "    statements #loop body\n",
    "    \n",
    "else: #optional else\n",
    "\n",
    "    statements #run if exited without break"
   ]
  },
  {
   "cell_type": "code",
   "execution_count": null,
   "metadata": {
    "collapsed": true
   },
   "outputs": [],
   "source": [
    "x = 1\n",
    "while x <= 5:\n",
    "    print x\n",
    "    x += 1\n",
    "    if x == 4:\n",
    "        break\n",
    "else:\n",
    "    print 'all done'"
   ]
  },
  {
   "cell_type": "code",
   "execution_count": null,
   "metadata": {
    "collapsed": true
   },
   "outputs": [],
   "source": [
    "x = 'string'\n",
    "while x: #while x is not empty\n",
    "    print x\n",
    "    x = x[1:] #strip off first character\n",
    "    "
   ]
  },
  {
   "cell_type": "code",
   "execution_count": null,
   "metadata": {
    "collapsed": true
   },
   "outputs": [],
   "source": [
    "while True:\n",
    "    print 'still running'"
   ]
  },
  {
   "cell_type": "markdown",
   "metadata": {},
   "source": [
    "### Simple loops statements\n",
    "\n",
    "break - jumps out of the closest enclosing loop\n",
    "\n",
    "continue - jumps to the top of the closest enclosing loop\n",
    "\n",
    "pass - don't do anything, this is just a place holder\n",
    "\n",
    "loop else block - only runs if the loop exits without using a break"
   ]
  },
  {
   "cell_type": "code",
   "execution_count": null,
   "metadata": {
    "collapsed": true
   },
   "outputs": [],
   "source": [
    "x = 0\n",
    "\n",
    "while x < 10:\n",
    "    print 'starting loop round'\n",
    "    if x == 2:\n",
    "        pass\n",
    "    if x == 4:\n",
    "        x=6\n",
    "        continue\n",
    "        \n",
    "    if x==7:\n",
    "        print 'reached a break'\n",
    "        break\n",
    "        \n",
    "    print x\n",
    "    x +=1\n",
    "    \n",
    "    print 'done with loop round'"
   ]
  },
  {
   "cell_type": "markdown",
   "metadata": {},
   "source": [
    "# For Loops\n",
    "\n",
    "Acts as an iterator, stepping through an ordered sequence or other interable object.\n",
    "\n",
    "General format:\n",
    "\n",
    "for target in object: #assign object items to target\n",
    "\n",
    "    statements #loop body, use target\n",
    "    \n",
    "else: #optional else\n",
    "\n",
    "    statements #run if exited without break"
   ]
  },
  {
   "cell_type": "code",
   "execution_count": null,
   "metadata": {
    "collapsed": true
   },
   "outputs": [],
   "source": [
    "for x in ['a', 'b', 'c']:\n",
    "    print x\n",
    "else:\n",
    "    print 'got to the end'"
   ]
  },
  {
   "cell_type": "code",
   "execution_count": null,
   "metadata": {
    "collapsed": true
   },
   "outputs": [],
   "source": [
    "for x in ['a', 'b', 'c']:\n",
    "    print x\n",
    "    if x == 'c':\n",
    "        break\n",
    "else:\n",
    "    print 'got to the end'"
   ]
  },
  {
   "cell_type": "code",
   "execution_count": null,
   "metadata": {
    "collapsed": true
   },
   "outputs": [],
   "source": [
    "print range(2,7)"
   ]
  },
  {
   "cell_type": "code",
   "execution_count": null,
   "metadata": {
    "collapsed": true
   },
   "outputs": [],
   "source": [
    "sum = 0\n",
    "for x in range(20):\n",
    "    sum += x\n",
    "    print sum"
   ]
  },
  {
   "cell_type": "code",
   "execution_count": null,
   "metadata": {
    "collapsed": true
   },
   "outputs": [],
   "source": [
    "prod = 1\n",
    "for x in range(1,5):\n",
    "    prod *= x\n",
    "    print prod"
   ]
  },
  {
   "cell_type": "code",
   "execution_count": null,
   "metadata": {
    "collapsed": true
   },
   "outputs": [],
   "source": [
    "for s in 'longer string':\n",
    "    print s"
   ]
  },
  {
   "cell_type": "code",
   "execution_count": null,
   "metadata": {
    "collapsed": true
   },
   "outputs": [],
   "source": [
    "T = [(1,2), (3,4), (5,6)]\n",
    "for (a,b) in T:\n",
    "    print 'a is ' + str(a)\n",
    "    print 'b is ' + str(b)\n",
    "    print "
   ]
  },
  {
   "cell_type": "code",
   "execution_count": null,
   "metadata": {
    "collapsed": true
   },
   "outputs": [],
   "source": [
    "T = [(1,2), (3,4), (5,6)]\n",
    "for both in T:\n",
    "    a,b = both\n",
    "    print 'a is ' + str(a)\n",
    "    print 'b is ' + str(b)\n",
    "    print "
   ]
  },
  {
   "cell_type": "code",
   "execution_count": null,
   "metadata": {
    "collapsed": true
   },
   "outputs": [],
   "source": [
    "D = {'name': 'Drew', 'age': 32, 'job': 'prof'}\n",
    "for key in D:\n",
    "    print key\n",
    "    print D[key]\n",
    "    print"
   ]
  },
  {
   "cell_type": "code",
   "execution_count": null,
   "metadata": {
    "collapsed": true
   },
   "outputs": [],
   "source": [
    "D = {'name': 'Drew', 'age': 32, 'job': 'prof'}\n",
    "for key, value in D.items():\n",
    "    print key\n",
    "    print value\n",
    "    print"
   ]
  },
  {
   "cell_type": "markdown",
   "metadata": {},
   "source": [
    "### Nested Loops "
   ]
  },
  {
   "cell_type": "code",
   "execution_count": null,
   "metadata": {
    "collapsed": true
   },
   "outputs": [],
   "source": [
    "items = ['aaa', 111, (4,5), 2.01]\n",
    "tests = [(4,5), 3.14]\n",
    "\n",
    "for key in tests:\n",
    "    for item in items:\n",
    "        if item == key:\n",
    "            print str(key) + ' was found'\n",
    "            break\n",
    "        else:\n",
    "            print str(key) + ' was not found'"
   ]
  },
  {
   "cell_type": "code",
   "execution_count": null,
   "metadata": {
    "collapsed": true
   },
   "outputs": [],
   "source": [
    "items = ['aaa', 111, (4,5), 2.01]\n",
    "tests = [(4,5), 3.14]\n",
    "\n",
    "for key in tests:\n",
    "    for item in items:\n",
    "        if item == key:\n",
    "            print str(key) + ' was found'\n",
    "            break\n",
    "    else:\n",
    "        print str(key) + ' was not found'"
   ]
  },
  {
   "cell_type": "markdown",
   "metadata": {},
   "source": [
    "### Useful Loop Methods"
   ]
  },
  {
   "cell_type": "markdown",
   "metadata": {},
   "source": [
    "##### range "
   ]
  },
  {
   "cell_type": "code",
   "execution_count": null,
   "metadata": {
    "collapsed": true
   },
   "outputs": [],
   "source": [
    "print range(10)"
   ]
  },
  {
   "cell_type": "code",
   "execution_count": null,
   "metadata": {
    "collapsed": true
   },
   "outputs": [],
   "source": [
    "print range(3,10)"
   ]
  },
  {
   "cell_type": "code",
   "execution_count": null,
   "metadata": {
    "collapsed": true
   },
   "outputs": [],
   "source": [
    "print range(-4,5)"
   ]
  },
  {
   "cell_type": "markdown",
   "metadata": {},
   "source": [
    "##### len and range \n",
    "\n",
    "Combine these two concepts to help iterate through lists of items"
   ]
  },
  {
   "cell_type": "code",
   "execution_count": null,
   "metadata": {
    "collapsed": true
   },
   "outputs": [],
   "source": [
    "s = 'spam'\n",
    "for i in range(len(s)):\n",
    "    s = s[1:] + s[:1]\n",
    "    print s"
   ]
  },
  {
   "cell_type": "markdown",
   "metadata": {},
   "source": [
    "##### zip\n",
    "\n",
    "Ties together two iterable items"
   ]
  },
  {
   "cell_type": "code",
   "execution_count": null,
   "metadata": {
    "collapsed": true
   },
   "outputs": [],
   "source": [
    "L1 = [0,1]\n",
    "L2 = ['a', 'b', 'c', 'd']\n",
    "\n",
    "for x,y in zip(L1, L2):\n",
    "    print str(x) + ' is connected with ' + y"
   ]
  },
  {
   "cell_type": "code",
   "execution_count": null,
   "metadata": {
    "collapsed": true
   },
   "outputs": [],
   "source": [
    "L1 = [0,1,2,3]\n",
    "L2 = ['a', 'b', 'c', 'd']\n",
    "\n",
    "D = dict()\n",
    "\n",
    "for x,y in zip(L1, L2):\n",
    "    D[y] = x\n",
    "\n",
    "print D"
   ]
  },
  {
   "cell_type": "markdown",
   "metadata": {},
   "source": [
    "##### Enumerate\n",
    "\n",
    "Gives you the index and the value at that index"
   ]
  },
  {
   "cell_type": "code",
   "execution_count": null,
   "metadata": {
    "collapsed": true
   },
   "outputs": [],
   "source": [
    "L2 = ['a', 'b', 'c', 'd']\n",
    "\n",
    "for (idx, l) in enumerate(L2):\n",
    "    print l + ' is at index: ' + str(idx)"
   ]
  }
 ],
 "metadata": {
  "anaconda-cloud": {},
  "kernelspec": {
   "display_name": "Python 2",
   "language": "python",
   "name": "python2"
  },
  "language_info": {
   "codemirror_mode": {
    "name": "ipython",
    "version": 2
   },
   "file_extension": ".py",
   "mimetype": "text/x-python",
   "name": "python",
   "nbconvert_exporter": "python",
   "pygments_lexer": "ipython2",
   "version": "2.7.9"
  }
 },
 "nbformat": 4,
 "nbformat_minor": 2
}
