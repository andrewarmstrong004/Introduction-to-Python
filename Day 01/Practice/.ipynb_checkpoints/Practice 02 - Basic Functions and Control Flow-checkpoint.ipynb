{
 "cells": [
  {
   "cell_type": "markdown",
   "metadata": {},
   "source": [
    "# Practice 02 - Basic Functions and Control Flow"
   ]
  },
  {
   "cell_type": "markdown",
   "metadata": {},
   "source": [
    "### Create a function, named my_add, that returns the sum of two numbers"
   ]
  },
  {
   "cell_type": "code",
   "execution_count": null,
   "metadata": {
    "collapsed": true
   },
   "outputs": [],
   "source": [
    "def my_add(a,b):\n",
    "    pass\n",
    "\n",
    "print my_add(5,13) #should print 18"
   ]
  },
  {
   "cell_type": "markdown",
   "metadata": {},
   "source": [
    "###  Modify the code of the below my_add function so that it takes four numbers as input and returns their sum"
   ]
  },
  {
   "cell_type": "code",
   "execution_count": null,
   "metadata": {
    "collapsed": true
   },
   "outputs": [],
   "source": [
    "def my_add(a,b):\n",
    "    pass\n",
    "\n",
    "print my_add(5, 7 ,12, 23) #should print 47"
   ]
  },
  {
   "cell_type": "markdown",
   "metadata": {},
   "source": [
    "### Create a function, name difference, which takes two numbers as inputs.  The function then returns the number you would need to add to the smaller of the two numbers to equal the larger number"
   ]
  },
  {
   "cell_type": "code",
   "execution_count": null,
   "metadata": {
    "collapsed": true
   },
   "outputs": [],
   "source": [
    "def difference(a,b):\n",
    "    pass\n",
    "\n",
    "print difference(3,7) #should print 4\n",
    "print difference(7,3) #should print 4\n",
    "print difference(5,13) #should print 8\n",
    "print difference(17,17) #should print 0"
   ]
  },
  {
   "cell_type": "markdown",
   "metadata": {},
   "source": [
    "### Create a function, named bigger, that return the larger of two numbers"
   ]
  },
  {
   "cell_type": "code",
   "execution_count": null,
   "metadata": {
    "collapsed": true
   },
   "outputs": [],
   "source": [
    "def bigger(a,b):\n",
    "    pass\n",
    "\n",
    "print bigger(13, 15.2) #should print 15.2"
   ]
  },
  {
   "cell_type": "markdown",
   "metadata": {},
   "source": [
    "### Create a function, named odd_or_even, that tells me if the provided integer is odd or even"
   ]
  },
  {
   "cell_type": "code",
   "execution_count": null,
   "metadata": {
    "collapsed": true
   },
   "outputs": [],
   "source": [
    "def odd_or_even(number):\n",
    "    return 'even'\n",
    "\n",
    "print odd_or_even(12) #should print even\n",
    "print odd_or_even(7) #should print odd"
   ]
  },
  {
   "cell_type": "markdown",
   "metadata": {},
   "source": [
    "### Create a function, named hours, which converts minutes and seconds into the appropriate number of hours\n",
    "\n",
    "Make sure to convert all integers to floats so that the division works correctly"
   ]
  },
  {
   "cell_type": "code",
   "execution_count": null,
   "metadata": {
    "collapsed": true
   },
   "outputs": [],
   "source": [
    "def hours(minutes, seconds):\n",
    "    pass\n",
    "\n",
    "print hours(minutes = 55, seconds = 48) #should print 0.92999999"
   ]
  },
  {
   "cell_type": "markdown",
   "metadata": {},
   "source": [
    "### Create a function, named between, which takes three numbers as arguments (test, val_a, val_b).\n",
    "\n",
    "* If test is between val_a and val_b the function will return the string 'between'\n",
    "* If test is larger than both val_a and val_b it will return the string 'larger'\n",
    "* If test is smaller than both val_a and val_b it will return the string 'smaller'\n",
    "* If test is equal to val_a or val_b it will return the string 'error'\n",
    "\n",
    "All numbers should be integers"
   ]
  },
  {
   "cell_type": "code",
   "execution_count": null,
   "metadata": {
    "collapsed": true
   },
   "outputs": [],
   "source": [
    "def between(test, val_a, val_b):\n",
    "    pass\n",
    "\n",
    "print between(test=9, val_a=7, val_b=23) #should print between\n",
    "print between(test=3, val_a=12, val_b=2) #should print between\n",
    "print between(test=12, val_a=7, val_b=5) #should print larger\n",
    "print between(test=5, val_a=5, val_b=9) #should print error"
   ]
  },
  {
   "cell_type": "markdown",
   "metadata": {},
   "source": [
    "### Create a function, named math_magic, which takes a number between 0 and 9 (an integer) as an input.  \n",
    "\n",
    "It then conducts the following procedure:\n",
    "\n",
    "* Doubles the number\n",
    "* Adds 6 to the result\n",
    "* Divide the new result by 2\n",
    "* Subtract the original number from the result"
   ]
  },
  {
   "cell_type": "code",
   "execution_count": null,
   "metadata": {},
   "outputs": [],
   "source": [
    "def math_magic(number):\n",
    "    pass\n",
    "\n",
    "print math_magic(7) #should print 3\n",
    "print math_magic(4) #should print 3"
   ]
  },
  {
   "cell_type": "markdown",
   "metadata": {},
   "source": [
    "### Create a function, named compound_interest, which calculates the result of compounding interest of an investment. \n",
    "\n",
    "* p is the original pricipal sum\n",
    "* r is the nominal annual interest rate\n",
    "* n is the compounding frequency\n",
    "* t is the number of years the investment compounds\n",
    "\n",
    "Use https://en.wikipedia.org/wiki/Compound_interest#Mathematics_of_interest_rate_on_loans to see how the function should work"
   ]
  },
  {
   "cell_type": "code",
   "execution_count": null,
   "metadata": {
    "collapsed": true
   },
   "outputs": [],
   "source": [
    "def compound_interest(p,r,n,t):\n",
    "    pass\n",
    "\n",
    "print compound_interest(p=1500, r=.043, n=4, t=6) #should return 1938.84\n",
    "print compount_interest(p=1500, r=.043, n=.5, t=6) #should return 1921.24"
   ]
  },
  {
   "cell_type": "markdown",
   "metadata": {},
   "source": [
    "### Create a function, named quadratic_formula, which returns one of the results fo the quadratic formula\n",
    "\n",
    "https://en.wikipedia.org/wiki/Quadratic_formula\n",
    "\n",
    "In the function where it says to add or subtract, just pick one of them"
   ]
  },
  {
   "cell_type": "code",
   "execution_count": null,
   "metadata": {
    "collapsed": true
   },
   "outputs": [],
   "source": [
    "def quadratic_formula(a,b,c):\n",
    "    pass"
   ]
  }
 ],
 "metadata": {
  "kernelspec": {
   "display_name": "Python 2",
   "language": "python",
   "name": "python2"
  },
  "language_info": {
   "codemirror_mode": {
    "name": "ipython",
    "version": 2
   },
   "file_extension": ".py",
   "mimetype": "text/x-python",
   "name": "python",
   "nbconvert_exporter": "python",
   "pygments_lexer": "ipython2",
   "version": "2.7.13"
  }
 },
 "nbformat": 4,
 "nbformat_minor": 2
}
