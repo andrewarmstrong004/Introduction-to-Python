{
 "cells": [
  {
   "cell_type": "markdown",
   "metadata": {
    "collapsed": true
   },
   "source": [
    "# Practice 05 - Sets, Mappings, and Comments"
   ]
  },
  {
   "cell_type": "markdown",
   "metadata": {},
   "source": [
    "### Use a set to find all the unique elements in my_list"
   ]
  },
  {
   "cell_type": "code",
   "execution_count": null,
   "metadata": {},
   "outputs": [],
   "source": [
    "my_list = ['a', 'b',1,'3',8,1,3,'b','h',7,2,8,'hello']\n"
   ]
  },
  {
   "cell_type": "markdown",
   "metadata": {},
   "source": [
    "### Use a set command to determine if 'y' is in my_set"
   ]
  },
  {
   "cell_type": "code",
   "execution_count": null,
   "metadata": {
    "collapsed": true
   },
   "outputs": [],
   "source": [
    "my_set = {'a','h','d','y','u',1,2,9,34,'hello'}\n"
   ]
  },
  {
   "cell_type": "markdown",
   "metadata": {},
   "source": [
    "### Determine if set_one is  completely containted by set_two"
   ]
  },
  {
   "cell_type": "code",
   "execution_count": null,
   "metadata": {
    "collapsed": true
   },
   "outputs": [],
   "source": [
    "set_one = {1,3,5,7,9,11,13,15}\n",
    "set_two = {2,3,5,7,11,13,17,23,29,31}\n"
   ]
  },
  {
   "cell_type": "markdown",
   "metadata": {},
   "source": [
    "### Create a set which contains all the elements of both sets"
   ]
  },
  {
   "cell_type": "code",
   "execution_count": null,
   "metadata": {
    "collapsed": true
   },
   "outputs": [],
   "source": [
    "set_one = {0,1,2,3,4,5,6,7,8,9}\n",
    "set_two = {2,3,5,7,11,13,17,23,29,31}\n"
   ]
  },
  {
   "cell_type": "markdown",
   "metadata": {},
   "source": [
    "### Use sets to print out the elements in both set_one and set_two"
   ]
  },
  {
   "cell_type": "code",
   "execution_count": null,
   "metadata": {
    "collapsed": true
   },
   "outputs": [],
   "source": [
    "set_one = {0,1,2,3,4,5,6,7,8,9}\n",
    "set_two = {2,3,5,7,11,13,17,23,29,31}\n"
   ]
  },
  {
   "cell_type": "markdown",
   "metadata": {},
   "source": [
    "### Use a set command to print out the elements in one of the two sets, but not both "
   ]
  },
  {
   "cell_type": "code",
   "execution_count": null,
   "metadata": {
    "collapsed": true
   },
   "outputs": [],
   "source": [
    "set_one = {0,1,2,3,4,5,6,7,8,9}\n",
    "set_two = {2,3,5,7,11,13,17,23,29,31}\n"
   ]
  },
  {
   "cell_type": "markdown",
   "metadata": {},
   "source": [
    "### Add the number 37 to prine_set"
   ]
  },
  {
   "cell_type": "code",
   "execution_count": null,
   "metadata": {
    "collapsed": true
   },
   "outputs": [],
   "source": [
    "prime_set = {2,3,5,7,11,13,17,23,29,31}"
   ]
  },
  {
   "cell_type": "markdown",
   "metadata": {},
   "source": [
    "### Clear all the elments from my_set and print the result"
   ]
  },
  {
   "cell_type": "code",
   "execution_count": null,
   "metadata": {
    "collapsed": true
   },
   "outputs": [],
   "source": [
    "my_set = {'a','h','d','y','u',1,2,9,34,'hello'}\n"
   ]
  },
  {
   "cell_type": "markdown",
   "metadata": {},
   "source": [
    "### Create a dictionary with your name, employer, and degree as keys with your appropriate data"
   ]
  },
  {
   "cell_type": "code",
   "execution_count": null,
   "metadata": {
    "collapsed": true
   },
   "outputs": [],
   "source": []
  },
  {
   "cell_type": "markdown",
   "metadata": {},
   "source": [
    "### Create a dictionary with at least four entries where the keys are the last names of your favorite authors, and the value is your faviorite book of theirs"
   ]
  },
  {
   "cell_type": "code",
   "execution_count": null,
   "metadata": {
    "collapsed": true
   },
   "outputs": [],
   "source": []
  },
  {
   "cell_type": "markdown",
   "metadata": {},
   "source": [
    "### Show me the house roster for Ravenclaw"
   ]
  },
  {
   "cell_type": "code",
   "execution_count": null,
   "metadata": {
    "collapsed": true
   },
   "outputs": [],
   "source": [
    "house_roster = {'Gryffindor':['Harry','Ron','Hermione','Neville'],'Ravenclaw':['Luna', 'Gilderoy', 'Penelope', 'Filius'],'Hufflepuff':['Newton', 'Nymphadora', 'Cedric', 'Teddy'],'Slytherin':['Tom', 'Draco', 'Regulus', 'Narcissa']}\n"
   ]
  },
  {
   "cell_type": "markdown",
   "metadata": {},
   "source": [
    "### Delete all the Gryffindor information from the following dictionary "
   ]
  },
  {
   "cell_type": "code",
   "execution_count": null,
   "metadata": {
    "collapsed": true
   },
   "outputs": [],
   "source": [
    "house_roster = {'Gryffindor':['Harry','Ron','Hermione','Neville'],'Ravenclaw':['Luna', 'Gilderoy', 'Penelope', 'Filius'],'Hufflepuff':['Newton', 'Nymphadora', 'Cedric', 'Teddy'],'Slytherin':['Tom', 'Draco', 'Regulus', 'Narcissa']}\n"
   ]
  },
  {
   "cell_type": "markdown",
   "metadata": {},
   "source": [
    "### Print all the keys in the provided dictionary"
   ]
  },
  {
   "cell_type": "code",
   "execution_count": null,
   "metadata": {
    "collapsed": true
   },
   "outputs": [],
   "source": [
    "house_roster = {'Gryffindor':['Harry','Ron','Hermione','Neville'],'Ravenclaw':['Luna', 'Gilderoy', 'Penelope', 'Filius'],'Hufflepuff':['Newton', 'Nymphadora', 'Cedric', 'Teddy'],'Slytherin':['Tom', 'Draco', 'Regulus', 'Narcissa']}\n"
   ]
  },
  {
   "cell_type": "markdown",
   "metadata": {},
   "source": [
    "### Print all the values in the provided dictionary"
   ]
  },
  {
   "cell_type": "code",
   "execution_count": null,
   "metadata": {
    "collapsed": true
   },
   "outputs": [],
   "source": [
    "house_roster = {'Gryffindor':['Harry','Ron','Hermione','Neville'],'Ravenclaw':['Luna', 'Gilderoy', 'Penelope', 'Filius'],'Hufflepuff':['Newton', 'Nymphadora', 'Cedric', 'Teddy'],'Slytherin':['Tom', 'Draco', 'Regulus', 'Narcissa']}\n"
   ]
  },
  {
   "cell_type": "markdown",
   "metadata": {},
   "source": [
    "### Make a copy of the following dictionary, then add Abraxas to the Slytherine roster and print the result"
   ]
  },
  {
   "cell_type": "code",
   "execution_count": null,
   "metadata": {
    "collapsed": true
   },
   "outputs": [],
   "source": [
    "house_roster = {'Gryffindor':['Harry','Ron','Hermione','Neville'],'Ravenclaw':['Luna', 'Gilderoy', 'Penelope', 'Filius'],'Hufflepuff':['Newton', 'Nymphadora', 'Cedric', 'Teddy'],'Slytherin':['Tom', 'Draco', 'Regulus', 'Narcissa']}\n"
   ]
  },
  {
   "cell_type": "markdown",
   "metadata": {},
   "source": [
    "### Clear the provided dictionary and provide the result"
   ]
  },
  {
   "cell_type": "code",
   "execution_count": null,
   "metadata": {
    "collapsed": true
   },
   "outputs": [],
   "source": [
    "house_roster = {'Gryffindor':['Harry','Ron','Hermione','Neville'],'Ravenclaw':['Luna', 'Gilderoy', 'Penelope', 'Filius'],'Hufflepuff':['Newton', 'Nymphadora', 'Cedric', 'Teddy'],'Slytherin':['Tom', 'Draco', 'Regulus', 'Narcissa']}\n"
   ]
  },
  {
   "cell_type": "markdown",
   "metadata": {},
   "source": [
    "### Pop Gryffindor from the following dictionary.  Print out the list of those Gryffindor students and the updated dictionary"
   ]
  },
  {
   "cell_type": "code",
   "execution_count": null,
   "metadata": {
    "collapsed": true
   },
   "outputs": [],
   "source": [
    "house_roster = {'Gryffindor':['Harry','Ron','Hermione','Neville'],'Ravenclaw':['Luna', 'Gilderoy', 'Penelope', 'Filius'],'Hufflepuff':['Newton', 'Nymphadora', 'Cedric', 'Teddy'],'Slytherin':['Tom', 'Draco', 'Regulus', 'Narcissa']}\n"
   ]
  },
  {
   "cell_type": "markdown",
   "metadata": {},
   "source": [
    "### Pop a random item from the provided list and print its key/value pair"
   ]
  },
  {
   "cell_type": "code",
   "execution_count": null,
   "metadata": {
    "collapsed": true
   },
   "outputs": [],
   "source": [
    "house_roster = {'Gryffindor':['Harry','Ron','Hermione','Neville'],'Ravenclaw':['Luna', 'Gilderoy', 'Penelope', 'Filius'],'Hufflepuff':['Newton', 'Nymphadora', 'Cedric', 'Teddy'],'Slytherin':['Tom', 'Draco', 'Regulus', 'Narcissa']}\n"
   ]
  },
  {
   "cell_type": "markdown",
   "metadata": {},
   "source": [
    "### Search for 'Diagon Alley' in the keys of the dictionary, and it its not there, return 'Not found'"
   ]
  },
  {
   "cell_type": "code",
   "execution_count": null,
   "metadata": {
    "collapsed": true
   },
   "outputs": [],
   "source": [
    "house_roster = {'Gryffindor':['Harry','Ron','Hermione','Neville'],'Ravenclaw':['Luna', 'Gilderoy', 'Penelope', 'Filius'],'Hufflepuff':['Newton', 'Nymphadora', 'Cedric', 'Teddy'],'Slytherin':['Tom', 'Draco', 'Regulus', 'Narcissa']}\n"
   ]
  },
  {
   "cell_type": "markdown",
   "metadata": {},
   "source": [
    "### What is the length of the dictionary"
   ]
  },
  {
   "cell_type": "code",
   "execution_count": null,
   "metadata": {
    "collapsed": true
   },
   "outputs": [],
   "source": [
    "house_roster = {'Gryffindor':['Harry','Ron','Hermione','Neville'],'Ravenclaw':['Luna', 'Gilderoy', 'Penelope', 'Filius'],'Hufflepuff':['Newton', 'Nymphadora', 'Cedric', 'Teddy'],'Slytherin':['Tom', 'Draco', 'Regulus', 'Narcissa']}\n"
   ]
  }
 ],
 "metadata": {
  "anaconda-cloud": {},
  "kernelspec": {
   "display_name": "Python 2",
   "language": "python",
   "name": "python2"
  },
  "language_info": {
   "codemirror_mode": {
    "name": "ipython",
    "version": 2
   },
   "file_extension": ".py",
   "mimetype": "text/x-python",
   "name": "python",
   "nbconvert_exporter": "python",
   "pygments_lexer": "ipython2",
   "version": "2.7.13"
  }
 },
 "nbformat": 4,
 "nbformat_minor": 2
}
