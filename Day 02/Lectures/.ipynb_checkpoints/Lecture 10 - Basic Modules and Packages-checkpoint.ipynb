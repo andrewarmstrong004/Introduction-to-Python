{
 "cells": [
  {
   "cell_type": "markdown",
   "metadata": {},
   "source": [
    "# Lecture 09 - Basic Modules and Packages\n",
    "\n",
    "Modules are the highest-level program organization unit.  They are basically just collections of code and data that can be reused and to help with namespace issues and clashes.\n",
    "\n",
    "Packages are just collections of modules.\n",
    "\n",
    "Modules help with:\n",
    "* Code reuse\n",
    "* System namespace partitioning\n",
    "* Implementing shared services or data\n"
   ]
  },
  {
   "cell_type": "markdown",
   "metadata": {},
   "source": [
    "## Our first module"
   ]
  },
  {
   "cell_type": "code",
   "execution_count": 1,
   "metadata": {
    "collapsed": true
   },
   "outputs": [],
   "source": [
    "import first_module"
   ]
  },
  {
   "cell_type": "code",
   "execution_count": 2,
   "metadata": {},
   "outputs": [
    {
     "name": "stdout",
     "output_type": "stream",
     "text": [
      "Hello world\n"
     ]
    }
   ],
   "source": [
    "first_module.hello()"
   ]
  },
  {
   "cell_type": "code",
   "execution_count": 3,
   "metadata": {},
   "outputs": [
    {
     "data": {
      "text/plain": [
       "15"
      ]
     },
     "execution_count": 3,
     "metadata": {},
     "output_type": "execute_result"
    }
   ],
   "source": [
    "first_module.add(*(1,2,3,4,5))"
   ]
  },
  {
   "cell_type": "code",
   "execution_count": 4,
   "metadata": {},
   "outputs": [
    {
     "name": "stdout",
     "output_type": "stream",
     "text": [
      "The meaning to life, the universe, and everything is 42\n"
     ]
    }
   ],
   "source": [
    "first_module.meaning()"
   ]
  },
  {
   "cell_type": "code",
   "execution_count": 5,
   "metadata": {},
   "outputs": [
    {
     "name": "stdout",
     "output_type": "stream",
     "text": [
      "[3, 6, 9, 12, 15, 18, 21, 24, 27, 30, 33, 36, 39, 42, 45, 48, 51, 54, 57, 60, 63, 66, 69, 72, 75, 78, 81, 84, 87, 90, 93, 96, 99]\n"
     ]
    }
   ],
   "source": [
    "print first_module.multiples_less_than(3,100)"
   ]
  },
  {
   "cell_type": "code",
   "execution_count": 6,
   "metadata": {},
   "outputs": [
    {
     "name": "stdout",
     "output_type": "stream",
     "text": [
      "382\n"
     ]
    }
   ],
   "source": [
    "print first_module.find_max([1,2,9,23,13,100,24,19,382,81])"
   ]
  },
  {
   "cell_type": "markdown",
   "metadata": {},
   "source": [
    "### as\n",
    "\n",
    "We can name a module something else when we import a module using the keywork as"
   ]
  },
  {
   "cell_type": "code",
   "execution_count": 7,
   "metadata": {},
   "outputs": [
    {
     "name": "stdout",
     "output_type": "stream",
     "text": [
      "Hello world\n"
     ]
    }
   ],
   "source": [
    "import first_module as first\n",
    "first.hello()"
   ]
  },
  {
   "cell_type": "markdown",
   "metadata": {},
   "source": [
    "### from\n",
    "\n",
    "You can use the keyword from to import a specific piece of a module"
   ]
  },
  {
   "cell_type": "code",
   "execution_count": 8,
   "metadata": {
    "collapsed": true
   },
   "outputs": [],
   "source": [
    "from first_module import hello"
   ]
  },
  {
   "cell_type": "code",
   "execution_count": 9,
   "metadata": {},
   "outputs": [
    {
     "name": "stdout",
     "output_type": "stream",
     "text": [
      "Hello world\n"
     ]
    }
   ],
   "source": [
    "hello()"
   ]
  },
  {
   "cell_type": "code",
   "execution_count": null,
   "metadata": {
    "collapsed": true
   },
   "outputs": [],
   "source": [
    "from first_module import *"
   ]
  },
  {
   "cell_type": "markdown",
   "metadata": {},
   "source": [
    "## Commonly used modules in Python"
   ]
  },
  {
   "cell_type": "markdown",
   "metadata": {},
   "source": [
    "### Numpy\n",
    "\n",
    "Numpy is a very commonly used package that has a whole slew of useful mathematical functions.  Probably the most helpful is the ability to use numpy to perform linear algebra.  Below are some very basic functions of numpy.\n",
    "\n",
    "https://docs.scipy.org/doc/numpy-1.13.0/reference/\n",
    "\n",
    "A good quickstart guide:  https://docs.scipy.org/doc/numpy-dev/user/quickstart.html"
   ]
  },
  {
   "cell_type": "code",
   "execution_count": 10,
   "metadata": {
    "collapsed": true
   },
   "outputs": [],
   "source": [
    "import numpy as np\n",
    "a = np.arange(15)"
   ]
  },
  {
   "cell_type": "code",
   "execution_count": 11,
   "metadata": {},
   "outputs": [
    {
     "data": {
      "text/plain": [
       "array([ 0,  1,  2,  3,  4,  5,  6,  7,  8,  9, 10, 11, 12, 13, 14])"
      ]
     },
     "execution_count": 11,
     "metadata": {},
     "output_type": "execute_result"
    }
   ],
   "source": [
    "a"
   ]
  },
  {
   "cell_type": "code",
   "execution_count": 12,
   "metadata": {},
   "outputs": [
    {
     "data": {
      "text/plain": [
       "array([[ 0,  1,  2,  3,  4],\n",
       "       [ 5,  6,  7,  8,  9],\n",
       "       [10, 11, 12, 13, 14]])"
      ]
     },
     "execution_count": 12,
     "metadata": {},
     "output_type": "execute_result"
    }
   ],
   "source": [
    "a.reshape(3,5)"
   ]
  },
  {
   "cell_type": "code",
   "execution_count": 13,
   "metadata": {},
   "outputs": [
    {
     "data": {
      "text/plain": [
       "array([[ 0,  1,  2],\n",
       "       [ 3,  4,  5],\n",
       "       [ 6,  7,  8],\n",
       "       [ 9, 10, 11],\n",
       "       [12, 13, 14]])"
      ]
     },
     "execution_count": 13,
     "metadata": {},
     "output_type": "execute_result"
    }
   ],
   "source": [
    "a = np.arange(15).reshape(5,3)\n",
    "a"
   ]
  },
  {
   "cell_type": "code",
   "execution_count": 14,
   "metadata": {},
   "outputs": [
    {
     "data": {
      "text/plain": [
       "array([[ 0,  1,  2,  3,  4],\n",
       "       [ 5,  6,  7,  8,  9],\n",
       "       [10, 11, 12, 13, 14]])"
      ]
     },
     "execution_count": 14,
     "metadata": {},
     "output_type": "execute_result"
    }
   ],
   "source": [
    "a = np.arange(15).reshape(3,5)\n",
    "a"
   ]
  },
  {
   "cell_type": "code",
   "execution_count": 15,
   "metadata": {},
   "outputs": [
    {
     "data": {
      "text/plain": [
       "(3L, 5L)"
      ]
     },
     "execution_count": 15,
     "metadata": {},
     "output_type": "execute_result"
    }
   ],
   "source": [
    "a.shape"
   ]
  },
  {
   "cell_type": "code",
   "execution_count": 16,
   "metadata": {},
   "outputs": [
    {
     "data": {
      "text/plain": [
       "'int32'"
      ]
     },
     "execution_count": 16,
     "metadata": {},
     "output_type": "execute_result"
    }
   ],
   "source": [
    "a.dtype.name"
   ]
  },
  {
   "cell_type": "code",
   "execution_count": 17,
   "metadata": {},
   "outputs": [
    {
     "data": {
      "text/plain": [
       "15"
      ]
     },
     "execution_count": 17,
     "metadata": {},
     "output_type": "execute_result"
    }
   ],
   "source": [
    "a.size"
   ]
  },
  {
   "cell_type": "code",
   "execution_count": 18,
   "metadata": {},
   "outputs": [
    {
     "data": {
      "text/plain": [
       "numpy.ndarray"
      ]
     },
     "execution_count": 18,
     "metadata": {},
     "output_type": "execute_result"
    }
   ],
   "source": [
    "type(a)"
   ]
  },
  {
   "cell_type": "code",
   "execution_count": 19,
   "metadata": {},
   "outputs": [
    {
     "data": {
      "text/plain": [
       "array([6, 7, 8])"
      ]
     },
     "execution_count": 19,
     "metadata": {},
     "output_type": "execute_result"
    }
   ],
   "source": [
    "b = np.array([6, 7, 8])\n",
    "b"
   ]
  },
  {
   "cell_type": "code",
   "execution_count": 20,
   "metadata": {},
   "outputs": [
    {
     "data": {
      "text/plain": [
       "numpy.ndarray"
      ]
     },
     "execution_count": 20,
     "metadata": {},
     "output_type": "execute_result"
    }
   ],
   "source": [
    "type(b)"
   ]
  },
  {
   "cell_type": "code",
   "execution_count": 21,
   "metadata": {},
   "outputs": [
    {
     "data": {
      "text/plain": [
       "array([ 3.14159265,  2.71828183])"
      ]
     },
     "execution_count": 21,
     "metadata": {},
     "output_type": "execute_result"
    }
   ],
   "source": [
    "c = np.array([np.pi, np.e])\n",
    "c"
   ]
  },
  {
   "cell_type": "code",
   "execution_count": 22,
   "metadata": {},
   "outputs": [
    {
     "data": {
      "text/plain": [
       "array([[ 1.+0.j,  2.+0.j],\n",
       "       [ 3.+0.j,  4.+0.j]])"
      ]
     },
     "execution_count": 22,
     "metadata": {},
     "output_type": "execute_result"
    }
   ],
   "source": [
    "d = np.array( [ [1,2], [3,4] ], dtype=complex )\n",
    "d"
   ]
  },
  {
   "cell_type": "code",
   "execution_count": 23,
   "metadata": {},
   "outputs": [
    {
     "data": {
      "text/plain": [
       "array([[ 0.,  0.,  0.,  0.],\n",
       "       [ 0.,  0.,  0.,  0.],\n",
       "       [ 0.,  0.,  0.,  0.]])"
      ]
     },
     "execution_count": 23,
     "metadata": {},
     "output_type": "execute_result"
    }
   ],
   "source": [
    "np.zeros( (3,4) )"
   ]
  },
  {
   "cell_type": "code",
   "execution_count": 27,
   "metadata": {},
   "outputs": [
    {
     "name": "stdout",
     "output_type": "stream",
     "text": [
      "[[[[ 1.  1.  1.  1.  1.  1.  1.  1.]\n",
      "   [ 1.  1.  1.  1.  1.  1.  1.  1.]\n",
      "   [ 1.  1.  1.  1.  1.  1.  1.  1.]\n",
      "   [ 1.  1.  1.  1.  1.  1.  1.  1.]]\n",
      "\n",
      "  [[ 1.  1.  1.  1.  1.  1.  1.  1.]\n",
      "   [ 1.  1.  1.  1.  1.  1.  1.  1.]\n",
      "   [ 1.  1.  1.  1.  1.  1.  1.  1.]\n",
      "   [ 1.  1.  1.  1.  1.  1.  1.  1.]]\n",
      "\n",
      "  [[ 1.  1.  1.  1.  1.  1.  1.  1.]\n",
      "   [ 1.  1.  1.  1.  1.  1.  1.  1.]\n",
      "   [ 1.  1.  1.  1.  1.  1.  1.  1.]\n",
      "   [ 1.  1.  1.  1.  1.  1.  1.  1.]]]\n",
      "\n",
      "\n",
      " [[[ 1.  1.  1.  1.  1.  1.  1.  1.]\n",
      "   [ 1.  1.  1.  1.  1.  1.  1.  1.]\n",
      "   [ 1.  1.  1.  1.  1.  1.  1.  1.]\n",
      "   [ 1.  1.  1.  1.  1.  1.  1.  1.]]\n",
      "\n",
      "  [[ 1.  1.  1.  1.  1.  1.  1.  1.]\n",
      "   [ 1.  1.  1.  1.  1.  1.  1.  1.]\n",
      "   [ 1.  1.  1.  1.  1.  1.  1.  1.]\n",
      "   [ 1.  1.  1.  1.  1.  1.  1.  1.]]\n",
      "\n",
      "  [[ 1.  1.  1.  1.  1.  1.  1.  1.]\n",
      "   [ 1.  1.  1.  1.  1.  1.  1.  1.]\n",
      "   [ 1.  1.  1.  1.  1.  1.  1.  1.]\n",
      "   [ 1.  1.  1.  1.  1.  1.  1.  1.]]]]\n",
      "float64\n"
     ]
    }
   ],
   "source": [
    "zero = np.ones( (2,3,4, 8))\n",
    "print zero\n",
    "print zero.dtype.name"
   ]
  },
  {
   "cell_type": "code",
   "execution_count": 29,
   "metadata": {},
   "outputs": [
    {
     "data": {
      "text/plain": [
       "array([10, 12, 14, 16, 18, 20, 22, 24, 26, 28])"
      ]
     },
     "execution_count": 29,
     "metadata": {},
     "output_type": "execute_result"
    }
   ],
   "source": [
    "np.arange( 10, 30, 2 )"
   ]
  },
  {
   "cell_type": "code",
   "execution_count": 30,
   "metadata": {},
   "outputs": [
    {
     "data": {
      "text/plain": [
       "array([ 10. ,  12.5,  15. ,  17.5,  20. ,  22.5,  25. ,  27.5])"
      ]
     },
     "execution_count": 30,
     "metadata": {},
     "output_type": "execute_result"
    }
   ],
   "source": [
    "np.arange( 10, 30, 2.5 )"
   ]
  },
  {
   "cell_type": "code",
   "execution_count": 31,
   "metadata": {},
   "outputs": [
    {
     "data": {
      "text/plain": [
       "0.70710678118654746"
      ]
     },
     "execution_count": 31,
     "metadata": {},
     "output_type": "execute_result"
    }
   ],
   "source": [
    "np.sin(np.pi/4)"
   ]
  },
  {
   "cell_type": "code",
   "execution_count": 32,
   "metadata": {
    "collapsed": true
   },
   "outputs": [],
   "source": [
    "a = np.array([20, 30, 40, 50])\n",
    "b = np.arange(4)"
   ]
  },
  {
   "cell_type": "code",
   "execution_count": 33,
   "metadata": {},
   "outputs": [
    {
     "data": {
      "text/plain": [
       "array([20, 30, 40, 50])"
      ]
     },
     "execution_count": 33,
     "metadata": {},
     "output_type": "execute_result"
    }
   ],
   "source": [
    "a"
   ]
  },
  {
   "cell_type": "code",
   "execution_count": 34,
   "metadata": {},
   "outputs": [
    {
     "data": {
      "text/plain": [
       "array([0, 1, 2, 3])"
      ]
     },
     "execution_count": 34,
     "metadata": {},
     "output_type": "execute_result"
    }
   ],
   "source": [
    "b"
   ]
  },
  {
   "cell_type": "code",
   "execution_count": 35,
   "metadata": {},
   "outputs": [
    {
     "data": {
      "text/plain": [
       "array([20, 29, 38, 47])"
      ]
     },
     "execution_count": 35,
     "metadata": {},
     "output_type": "execute_result"
    }
   ],
   "source": [
    "c = a-b\n",
    "c"
   ]
  },
  {
   "cell_type": "code",
   "execution_count": 36,
   "metadata": {},
   "outputs": [
    {
     "data": {
      "text/plain": [
       "array([ 400,  841, 1444, 2209])"
      ]
     },
     "execution_count": 36,
     "metadata": {},
     "output_type": "execute_result"
    }
   ],
   "source": [
    "c ** 2"
   ]
  },
  {
   "cell_type": "markdown",
   "metadata": {},
   "source": [
    "### Random\n",
    "\n",
    "The built-in random package allows you to create random numbers, series, or selections.\n",
    "\n",
    "https://docs.python.org/2/library/random.html"
   ]
  },
  {
   "cell_type": "code",
   "execution_count": 37,
   "metadata": {
    "collapsed": true
   },
   "outputs": [],
   "source": [
    "import random"
   ]
  },
  {
   "cell_type": "code",
   "execution_count": 44,
   "metadata": {},
   "outputs": [
    {
     "name": "stdout",
     "output_type": "stream",
     "text": [
      "5\n"
     ]
    }
   ],
   "source": [
    "print random.randint(0,5)"
   ]
  },
  {
   "cell_type": "code",
   "execution_count": 45,
   "metadata": {},
   "outputs": [
    {
     "name": "stdout",
     "output_type": "stream",
     "text": [
      "0\n"
     ]
    }
   ],
   "source": [
    "print random.randint(0,5)"
   ]
  },
  {
   "cell_type": "code",
   "execution_count": 46,
   "metadata": {},
   "outputs": [
    {
     "name": "stdout",
     "output_type": "stream",
     "text": [
      "3\n"
     ]
    }
   ],
   "source": [
    "print random.randint(0,5)"
   ]
  },
  {
   "cell_type": "code",
   "execution_count": 47,
   "metadata": {},
   "outputs": [
    {
     "name": "stdout",
     "output_type": "stream",
     "text": [
      "2\n",
      "0\n",
      "3\n",
      "2\n",
      "2\n",
      "4\n",
      "0\n",
      "2\n",
      "5\n",
      "4\n",
      "5\n",
      "0\n",
      "0\n",
      "2\n",
      "5\n",
      "1\n",
      "2\n",
      "4\n",
      "2\n",
      "0\n"
     ]
    }
   ],
   "source": [
    "for i in range(20):\n",
    "    print random.randint(0,5)"
   ]
  },
  {
   "cell_type": "code",
   "execution_count": 48,
   "metadata": {},
   "outputs": [
    {
     "name": "stdout",
     "output_type": "stream",
     "text": [
      "0.780489949029\n"
     ]
    }
   ],
   "source": [
    "print random.random()"
   ]
  },
  {
   "cell_type": "code",
   "execution_count": 49,
   "metadata": {},
   "outputs": [
    {
     "name": "stdout",
     "output_type": "stream",
     "text": [
      "0.51179611205\n",
      "0.212309565012\n",
      "0.114423356193\n",
      "0.207001458233\n",
      "0.15560858551\n",
      "0.0979406329143\n",
      "0.869737673613\n",
      "0.350914171801\n",
      "0.309951664742\n",
      "0.866412246271\n",
      "0.603297379173\n",
      "0.983126019995\n",
      "0.727941251645\n",
      "0.513214313326\n",
      "0.844024051014\n",
      "0.644966134771\n",
      "0.504359656707\n",
      "0.259778169789\n",
      "0.176229797658\n",
      "0.638140144398\n"
     ]
    }
   ],
   "source": [
    "for i in range(20):\n",
    "    print random.random()"
   ]
  },
  {
   "cell_type": "code",
   "execution_count": 71,
   "metadata": {},
   "outputs": [
    {
     "data": {
      "text/plain": [
       "'hearts'"
      ]
     },
     "execution_count": 71,
     "metadata": {},
     "output_type": "execute_result"
    }
   ],
   "source": [
    "random.choice( ['spades', 'diamonds', 'clubs', 'hearts'] )"
   ]
  },
  {
   "cell_type": "code",
   "execution_count": 86,
   "metadata": {},
   "outputs": [
    {
     "data": {
      "text/plain": [
       "'Ipsum'"
      ]
     },
     "execution_count": 86,
     "metadata": {},
     "output_type": "execute_result"
    }
   ],
   "source": [
    "myList = [2, 109, False, 10, \"Lorem\", 482, \"Ipsum\"]\n",
    "random.choice(myList)"
   ]
  },
  {
   "cell_type": "code",
   "execution_count": 93,
   "metadata": {},
   "outputs": [
    {
     "name": "stdout",
     "output_type": "stream",
     "text": [
      "[0, 1, 2, 3, 4, 5, 6, 7, 8, 9]\n",
      "[9, 1, 0, 2, 5, 4, 3, 6, 8, 7]\n"
     ]
    }
   ],
   "source": [
    "x = [i for i in range(10)]\n",
    "print x\n",
    "random.shuffle(x)\n",
    "print x"
   ]
  },
  {
   "cell_type": "code",
   "execution_count": 101,
   "metadata": {},
   "outputs": [
    {
     "name": "stdout",
     "output_type": "stream",
     "text": [
      "25\n",
      "45\n",
      "45\n",
      "70\n",
      "35\n",
      "15\n",
      "55\n",
      "65\n",
      "50\n",
      "50\n",
      "80\n",
      "60\n",
      "70\n",
      "0\n",
      "50\n",
      "50\n",
      "100\n",
      "80\n",
      "25\n",
      "40\n"
     ]
    }
   ],
   "source": [
    "for i in range(20):\n",
    "    print random.randrange(0, 101, 5)"
   ]
  },
  {
   "cell_type": "code",
   "execution_count": 102,
   "metadata": {
    "collapsed": true
   },
   "outputs": [],
   "source": [
    "random.seed(1234)"
   ]
  },
  {
   "cell_type": "code",
   "execution_count": 103,
   "metadata": {},
   "outputs": [
    {
     "name": "stdout",
     "output_type": "stream",
     "text": [
      "100\n",
      "45\n",
      "0\n",
      "95\n",
      "95\n",
      "60\n",
      "70\n",
      "5\n",
      "80\n",
      "20\n",
      "0\n",
      "80\n",
      "35\n",
      "65\n",
      "60\n",
      "15\n",
      "15\n",
      "10\n",
      "0\n",
      "50\n"
     ]
    }
   ],
   "source": [
    "for i in range(20):\n",
    "    print random.randrange(0, 101, 5)"
   ]
  },
  {
   "cell_type": "code",
   "execution_count": 104,
   "metadata": {
    "collapsed": true
   },
   "outputs": [],
   "source": [
    "random.seed(1234)"
   ]
  },
  {
   "cell_type": "code",
   "execution_count": 105,
   "metadata": {},
   "outputs": [
    {
     "name": "stdout",
     "output_type": "stream",
     "text": [
      "100\n",
      "45\n",
      "0\n",
      "95\n",
      "95\n",
      "60\n",
      "70\n",
      "5\n",
      "80\n",
      "20\n",
      "0\n",
      "80\n",
      "35\n",
      "65\n",
      "60\n",
      "15\n",
      "15\n",
      "10\n",
      "0\n",
      "50\n"
     ]
    }
   ],
   "source": [
    "for i in range(20):\n",
    "    print random.randrange(0, 101, 5)"
   ]
  },
  {
   "cell_type": "code",
   "execution_count": 106,
   "metadata": {},
   "outputs": [
    {
     "data": {
      "text/plain": [
       "0.3565028927584915"
      ]
     },
     "execution_count": 106,
     "metadata": {},
     "output_type": "execute_result"
    }
   ],
   "source": [
    "mu = 0\n",
    "sigma = 1\n",
    "random.gauss(mu, sigma)"
   ]
  },
  {
   "cell_type": "markdown",
   "metadata": {},
   "source": [
    "### OS\n",
    "\n",
    "OS provides functions for interacting with your operating system.\n",
    "\n",
    "    https://docs.python.org/2/library/os.html"
   ]
  },
  {
   "cell_type": "code",
   "execution_count": 107,
   "metadata": {
    "collapsed": true
   },
   "outputs": [],
   "source": [
    "import os"
   ]
  },
  {
   "cell_type": "code",
   "execution_count": 108,
   "metadata": {},
   "outputs": [
    {
     "data": {
      "text/plain": [
       "'C:\\\\Users\\\\warde\\\\Dropbox\\\\Teaching\\\\UC\\\\MS in Business Analytics\\\\Introduction to Python\\\\04 - Day 02 - In Class Material'"
      ]
     },
     "execution_count": 108,
     "metadata": {},
     "output_type": "execute_result"
    }
   ],
   "source": [
    "my_path = os.getcwd()\n",
    "my_path"
   ]
  },
  {
   "cell_type": "code",
   "execution_count": 109,
   "metadata": {
    "collapsed": true
   },
   "outputs": [],
   "source": [
    "os.chdir('C:\\\\Users')"
   ]
  },
  {
   "cell_type": "code",
   "execution_count": 110,
   "metadata": {},
   "outputs": [
    {
     "data": {
      "text/plain": [
       "'C:\\\\Users'"
      ]
     },
     "execution_count": 110,
     "metadata": {},
     "output_type": "execute_result"
    }
   ],
   "source": [
    "os.getcwd()"
   ]
  },
  {
   "cell_type": "code",
   "execution_count": 111,
   "metadata": {
    "collapsed": true
   },
   "outputs": [],
   "source": [
    "os.chdir(my_path)"
   ]
  },
  {
   "cell_type": "code",
   "execution_count": 112,
   "metadata": {},
   "outputs": [
    {
     "data": {
      "text/plain": [
       "'C:\\\\Users\\\\warde\\\\Dropbox\\\\Teaching\\\\UC\\\\MS in Business Analytics\\\\Introduction to Python\\\\04 - Day 02 - In Class Material'"
      ]
     },
     "execution_count": 112,
     "metadata": {},
     "output_type": "execute_result"
    }
   ],
   "source": [
    "os.getcwd()"
   ]
  },
  {
   "cell_type": "code",
   "execution_count": 113,
   "metadata": {},
   "outputs": [
    {
     "name": "stdout",
     "output_type": "stream",
     "text": [
      ".ipynb_checkpoints\n",
      "Alice's Adventures in Wonderland by Lewis Carroll.txt\n",
      "database.sqlite\n",
      "empty file.txt\n",
      "Final Project Part 01.ipynb\n",
      "first_module.py\n",
      "first_module.pyc\n",
      "flower.json\n",
      "Homework 06 - Statements in Python.ipynb\n",
      "Homework 07 - Introduction to Functions.ipynb\n",
      "Homework 08 - Error Handling.ipynb\n",
      "Homework 09 - Basic Modules and Packages.ipynb\n",
      "housing.data\n",
      "housing.names\n",
      "iris-species.zip\n",
      "Iris.csv\n",
      "Iris.tsv\n",
      "Lecture 05 - Day 01 Review.ipynb\n",
      "Lecture 06 - Statements in Python.ipynb\n",
      "Lecture 07 - Introduction to Functions.ipynb\n",
      "Lecture 08 - Error Handling.ipynb\n",
      "Lecture 09 - Basic Modules and Packages.ipynb\n",
      "Lecture 10 - Data Input and Output.ipynb\n",
      "Lecture 11 - Plotting.ipynb\n",
      "Titanic Documentation.html\n",
      "Titanic.csv\n"
     ]
    }
   ],
   "source": [
    "for item in os.listdir(my_path):\n",
    "    print item"
   ]
  },
  {
   "cell_type": "code",
   "execution_count": 114,
   "metadata": {},
   "outputs": [
    {
     "name": "stdout",
     "output_type": "stream",
     "text": [
      "['C:', 'Users', 'warde', 'Dropbox', 'Teaching', 'UC', 'MS in Business Analytics', 'Introduction to Python', '04 - Day 02 - In Class Material']\n"
     ]
    }
   ],
   "source": [
    "path_split = my_path.split('\\\\')\n",
    "print path_split"
   ]
  },
  {
   "cell_type": "code",
   "execution_count": 115,
   "metadata": {},
   "outputs": [
    {
     "data": {
      "text/plain": [
       "'04 - Day 02 - In Class Material'"
      ]
     },
     "execution_count": 115,
     "metadata": {},
     "output_type": "execute_result"
    }
   ],
   "source": [
    "path_split.pop()"
   ]
  },
  {
   "cell_type": "code",
   "execution_count": 116,
   "metadata": {},
   "outputs": [
    {
     "name": "stdout",
     "output_type": "stream",
     "text": [
      "C:\\\\Users\\\\warde\\\\Dropbox\\\\Teaching\\\\UC\\\\MS in Business Analytics\\\\Introduction to Python\n"
     ]
    }
   ],
   "source": [
    "my_updated_path = '\\\\\\\\'.join(path_split)\n",
    "print my_updated_path"
   ]
  },
  {
   "cell_type": "code",
   "execution_count": 117,
   "metadata": {},
   "outputs": [
    {
     "name": "stdout",
     "output_type": "stream",
     "text": [
      "Syllabus.aux\n",
      "Syllabus.log\n",
      "Syllabus.out\n",
      "Syllabus.pdf\n",
      "Syllabus.synctex.gz\n",
      "Syllabus.tex\n",
      "reveal.js-master.zip\n",
      "Lecture 01 - Introduction-checkpoint.ipynb\n",
      "Introduction.aux\n",
      "Introduction.log\n",
      "Introduction.nav\n",
      "Introduction.out\n",
      "Introduction.pdf\n",
      "Introduction.snm\n",
      "Introduction.synctex.gz\n",
      "Introduction.tex\n",
      "Introduction.toc\n",
      "Homework 01 - Numeric Types.ipynb\n",
      "Homework 02 - Dynamic Typing.ipynb\n",
      "Homework 03 - Strings.ipynb\n",
      "Homework 04 - Built in Data Structures.ipynb\n",
      "Lecture 01 - Numeric Types.ipynb\n",
      "Lecture 02 - Dynamic Typing.ipynb\n",
      "Lecture 03 - Strings.ipynb\n",
      "Lecture 04 - Built in Data Structures.ipynb\n",
      "Homework 01 - Numeric Types-checkpoint.ipynb\n",
      "Homework 02 - Dynamic Typing-checkpoint.ipynb\n",
      "Homework 03 - Strings-checkpoint.ipynb\n",
      "Homework 04 - Built in Data Structures-checkpoint.ipynb\n",
      "Homework 05 - Statements in Python-checkpoint.ipynb\n",
      "Lecture 01 - Numeric Types-checkpoint.ipynb\n",
      "Lecture 02 - Dynamic Typing-checkpoint.ipynb\n",
      "Lecture 03 - Strings-checkpoint.ipynb\n",
      "Lecture 04 - Built in Data Structures-checkpoint.ipynb\n",
      "Lecture 05 - Statements in Python-checkpoint.ipynb\n",
      "Lecture 06 - Introduction to Functions-checkpoint.ipynb\n",
      ".gitignore\n",
      ".travis.yml\n",
      "bower.json\n",
      "CONTRIBUTING.md\n",
      "demo.html\n",
      "Gruntfile.js\n",
      "index.html\n",
      "LICENSE\n",
      "package.json\n",
      "README.md\n",
      "reveal.css\n",
      "reveal.scss\n",
      "paper.css\n",
      "pdf.css\n",
      "beige.css\n",
      "black.css\n",
      "blood.css\n",
      "league.css\n",
      "moon.css\n",
      "night.css\n",
      "README.md\n",
      "serif.css\n",
      "simple.css\n",
      "sky.css\n",
      "solarized.css\n",
      "white.css\n",
      "beige.scss\n",
      "black.scss\n",
      "blood.scss\n",
      "league.scss\n",
      "moon.scss\n",
      "night.scss\n",
      "serif.scss\n",
      "simple.scss\n",
      "sky.scss\n",
      "solarized.scss\n",
      "white.scss\n",
      "mixins.scss\n",
      "settings.scss\n",
      "theme.scss\n",
      "reveal.js\n",
      "zenburn.css\n",
      "league-gothic.css\n",
      "league-gothic.eot\n",
      "league-gothic.ttf\n",
      "league-gothic.woff\n",
      "LICENSE\n",
      "LICENSE\n",
      "source-sans-pro-italic.eot\n",
      "source-sans-pro-italic.ttf\n",
      "source-sans-pro-italic.woff\n",
      "source-sans-pro-regular.eot\n",
      "source-sans-pro-regular.ttf\n",
      "source-sans-pro-regular.woff\n",
      "source-sans-pro-semibold.eot\n",
      "source-sans-pro-semibold.ttf\n",
      "source-sans-pro-semibold.woff\n",
      "source-sans-pro-semibolditalic.eot\n",
      "source-sans-pro-semibolditalic.ttf\n",
      "source-sans-pro-semibolditalic.woff\n",
      "source-sans-pro.css\n",
      "classList.js\n",
      "head.min.js\n",
      "html5shiv.js\n",
      "highlight.js\n",
      "example.html\n",
      "example.md\n",
      "markdown.js\n",
      "marked.js\n",
      "math.js\n",
      "client.js\n",
      "index.js\n",
      "master.js\n",
      "package.json\n",
      "notes.html\n",
      "notes.js\n",
      "client.js\n",
      "index.js\n",
      "notes.html\n",
      "print-pdf.js\n",
      "search.js\n",
      "zoom.js\n",
      "qunit-1.12.0.css\n",
      "qunit-1.12.0.js\n",
      "simple.md\n",
      "test-markdown-element-attributes.html\n",
      "test-markdown-element-attributes.js\n",
      "test-markdown-external.html\n",
      "test-markdown-external.js\n",
      "test-markdown-options.html\n",
      "test-markdown-options.js\n",
      "test-markdown-slide-attributes.html\n",
      "test-markdown-slide-attributes.js\n",
      "test-markdown.html\n",
      "test-markdown.js\n",
      "test-pdf.html\n",
      "test-pdf.js\n",
      "test.html\n",
      "test.js\n",
      "barebones.html\n",
      "embedded-media.html\n",
      "math.html\n",
      "slide-backgrounds.html\n",
      "slide-transitions.html\n",
      "image1.png\n",
      "image2.png\n",
      "Alice's Adventures in Wonderland by Lewis Carroll.txt\n",
      "database.sqlite\n",
      "empty file.txt\n",
      "Final Project Part 01.ipynb\n",
      "first_module.py\n",
      "first_module.pyc\n",
      "flower.json\n",
      "Homework 06 - Statements in Python.ipynb\n",
      "Homework 07 - Introduction to Functions.ipynb\n",
      "Homework 08 - Error Handling.ipynb\n",
      "Homework 09 - Basic Modules and Packages.ipynb\n",
      "housing.data\n",
      "housing.names\n",
      "iris-species.zip\n",
      "Iris.csv\n",
      "Iris.tsv\n",
      "Lecture 05 - Day 01 Review.ipynb\n",
      "Lecture 06 - Statements in Python.ipynb\n",
      "Lecture 07 - Introduction to Functions.ipynb\n",
      "Lecture 08 - Error Handling.ipynb\n",
      "Lecture 09 - Basic Modules and Packages.ipynb\n",
      "Lecture 10 - Data Input and Output.ipynb\n",
      "Lecture 11 - Plotting.ipynb\n",
      "Titanic Documentation.html\n",
      "Titanic.csv\n",
      "Final Project Part 01-checkpoint.ipynb\n",
      "Homework 06 - Statements in Python-checkpoint.ipynb\n",
      "Homework 07 - Introduction to Functions-checkpoint.ipynb\n",
      "Homework 08 - Error Handling-checkpoint.ipynb\n",
      "Homework 09 - Basic Modules and Packages-checkpoint.ipynb\n",
      "Lecture 05 - Day 01 Review-checkpoint.ipynb\n",
      "Lecture 05 - Statements in Python-checkpoint.ipynb\n",
      "Lecture 06 - Statements in Python-checkpoint.ipynb\n",
      "Lecture 07 - Introduction to Functions-checkpoint.ipynb\n",
      "Lecture 08 - Error Handling-checkpoint.ipynb\n",
      "Lecture 09 - Basic Modules and Packages-checkpoint.ipynb\n",
      "Lecture 10 - Data Input and Output-checkpoint.ipynb\n",
      "Lecture 11 - Plotting-checkpoint.ipynb\n",
      "destinations.csv\n",
      "destinations.csv.gz\n",
      "sample_submission.csv\n",
      "sample_submission.csv.gz\n",
      "test.csv\n",
      "test.csv.gz\n",
      "train.csv\n",
      "train.csv.gz\n"
     ]
    }
   ],
   "source": [
    "    f = []\n",
    "    for (dirpath, dirnames, filenames) in os.walk(my_updated_path):\n",
    "        f += filenames\n",
    "\n",
    "    for file_names in f:\n",
    "        print file_names"
   ]
  }
 ],
 "metadata": {
  "anaconda-cloud": {},
  "kernelspec": {
   "display_name": "Python 2",
   "language": "python",
   "name": "python2"
  },
  "language_info": {
   "codemirror_mode": {
    "name": "ipython",
    "version": 2
   },
   "file_extension": ".py",
   "mimetype": "text/x-python",
   "name": "python",
   "nbconvert_exporter": "python",
   "pygments_lexer": "ipython2",
   "version": "2.7.13"
  }
 },
 "nbformat": 4,
 "nbformat_minor": 2
}
